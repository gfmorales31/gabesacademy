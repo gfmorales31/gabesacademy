{
 "cells": [
  {
   "cell_type": "markdown",
   "metadata": {},
   "source": [
    "# [CptS 111 Introduction to Algorithmic Problem Solving](http://piazza.com/wsu/fall2016/cpts111/home)\n",
    "\n",
    "## Lab0 Python Basics\n",
    "\n",
    "### Learner Objectives\n",
    "At the conclusion of this lab, participants should be able to:\n",
    "* Run a Python program on their own computer\n",
    "\n",
    "### Prerequisites\n",
    "Before starting this lab, participants should be able to:\n",
    "* Open a web browser and access the internet\n",
    "* Install programs on their computer"
   ]
  },
  {
   "cell_type": "markdown",
   "metadata": {
    "collapsed": true
   },
   "source": [
    "### Task 1 – Variable Declarations\n",
    "\n",
    "Declaring a variable reserves memory space for a value. It also associates a name with a memory cell (user-defined identifier). For this task, create six variables.\n",
    "\n",
    "* 2 integer variables\n",
    "* 2 float variables \n",
    "* 2 string variables\n",
    "\n",
    "Example output: \n",
    "name = \"Gabe\"\n",
    "\n",
    "Hint: Remember, integer is all whole numbers, float is for decimals, and string is for characters."
   ]
  },
  {
   "cell_type": "markdown",
   "metadata": {},
   "source": [
    "### Task 2 – Data Types\n",
    "All variables have an associated data type. A data type is a set of values and a set of operations on those values. Examples of data types include:\n",
    "\n",
    "* Integers - int\n",
    "* Float - float\n",
    "* String - str\n",
    "\n",
    "For this task, create 1 integer variable and 1 float variable and add them together to create a new variable.\n"
   ]
  },
  {
   "cell_type": "markdown",
   "metadata": {},
   "source": [
    "### Task 3 - Executable Statements\n",
    "Executable statements do the work of the algorithm by transforming inputs into outputs. For example, consider the volume of the cone example:\n",
    "\n",
    "volume = 1 / 3 * 3.14 * radius ** 2 * height\n",
    "\n",
    "For this task, find the average age of your family. \n",
    "\n",
    "Hint: To find the average, divide total age by the number of people in your family. "
   ]
  },
  {
   "cell_type": "markdown",
   "metadata": {},
   "source": [
    "### Task 4 - Shorthand Assignment Operators\n",
    "Code such as, x = x + 1 is quite common, in fact, it is so common that Python has a shorthand operator (+=) to shorten this code: x += 1. There are other shorthand operators for other arithmetic operators too:\n",
    "\n",
    "x += 1 # adds 1 to x\n",
    "x -= 1 # subtracts 1 from x\n",
    "x /= 1 # divides x by 1\n",
    "x *= 1 # multiplies x by 1\n",
    "\n",
    "For this task, create 2 variables and use a shorthand operator.  For example:\n",
    "\n",
    "age = 36\n",
    "age += 1"
   ]
  },
  {
   "cell_type": "markdown",
   "metadata": {},
   "source": [
    "### Task 5 Built-in Python functions - Output\n",
    "The print() function is used to display text output of the program to the user, via the console. We have already seen the print() function in action: For this task, use the print() function to display 3 sentences.\n",
    "\n",
    "1 sentence about your favorite subject in school\n",
    "1 sentence about your favorite sports team\n",
    "1 sentence about your favorite food\n",
    "\n",
    "Example:\n",
    "\n",
    "print(\"Kevin Durant is my favorite NBA player.\")"
   ]
  },
  {
   "cell_type": "markdown",
   "metadata": {},
   "source": [
    "### Task 6 – Placeholders\n",
    "In Python %.2f, %.2d, or %s is known as a placeholder. In this task, create 3 variables and display them in a Print statement. For example.\n"
   ]
  },
  {
   "cell_type": "code",
   "execution_count": 2,
   "metadata": {
    "collapsed": false
   },
   "outputs": [
    {
     "name": "stdout",
     "output_type": "stream",
     "text": [
      "Mateo, Izaiah, and Sofia are the children of the Anaya family.\n"
     ]
    }
   ],
   "source": [
    "name1 = \"Mateo\"\n",
    "name2 = \"Izaiah\"\n",
    "name3 = \"Sofia\"\n",
    "\n",
    "print(\"%s, %s, and %s are the children of the Anaya family.\" % (name1, name2, name3))"
   ]
  },
  {
   "cell_type": "markdown",
   "metadata": {},
   "source": [
    "### Task 7 -Input\n",
    "The input() function is used to collect input from the user of our programs via the keyboard. We have already seen the input() function in action:\n",
    "\n",
    "radius = float(input())\n",
    "\n",
    "radius = float(input(\"Please enter the radius\"))\n",
    "\n",
    "For this task, create 3 different variables and use the input() function to accept input from the user.\n"
   ]
  }
 ],
 "metadata": {
  "kernelspec": {
   "display_name": "Python [Root]",
   "language": "python",
   "name": "Python [Root]"
  },
  "language_info": {
   "codemirror_mode": {
    "name": "ipython",
    "version": 3
   },
   "file_extension": ".py",
   "mimetype": "text/x-python",
   "name": "python",
   "nbconvert_exporter": "python",
   "pygments_lexer": "ipython3",
   "version": "3.5.2"
  }
 },
 "nbformat": 4,
 "nbformat_minor": 0
}
