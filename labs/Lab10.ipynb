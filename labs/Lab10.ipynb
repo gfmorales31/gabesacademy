{
 "cells": [
  {
   "cell_type": "markdown",
   "metadata": {},
   "source": [
    "# [CptS 111 Introduction to Algorithmic Problem Solving](http://piazza.com/wsu/fall2016/cpts111/home)\n",
    "[Washington State University](https://wsu.edu)\n",
    "\n",
    "[Gina Sprint](http://eecs.wsu.edu/~gsprint/)\n",
    "## Lab10 Review (10 pts)\n",
    "\n",
    "### Learner Objectives\n",
    "At the conclusion of this lab, participants should be able to:\n",
    "* Solve problems using loops, file I/O, and strings\n",
    "\n",
    "### Prerequisites\n",
    "Before starting this lab, participants should be able to:\n",
    "* Implement `while` and `for` loops\n",
    "* Open, process, and close input and output files\n",
    "\n",
    "### Review Lab Format\n",
    "For this review lab, solve/demo tasks from this lab (Lab 10) and tasks you have not previously solved from Labs 1-9.\n",
    "\n",
    "####  Pair Task\n",
    "Your TA will group you into pairs and assign you a task (one of Tasks 1-10).\n",
    "\n",
    "#### Additional Tasks\n",
    "Once you complete Task 0 and your assigned task with a partner (pair task), you are to continue solving additional lab tasks until the end of lab. You are encouraged to complete *all* of the lab tasks. Practice, practice, practice! \n",
    "\n",
    "#### Completing a Task\n",
    "When you complete a task, show your TA your code and output. Also, help others with this task either in person or by answering questions in your [Piazza](http://piazza.com/wsu/fall2016/cpts111/home) lab section group. Helping your peers benefits both you and your classmates, as Albert Einstein said, \"You do not really understand something unless you can explain it to your grandmother.\" :)\n",
    "\n",
    "#### Lab Dismissal\n",
    "You are dismissed from lab when your TA dismisses you, or after 3 hours, whichever comes first. Your TA will dismiss you once you have demonstrated mastery of the material (completed a certain number of tasks). Should you demonstrate mastery before the end of lab, you are encouraged to stay and perform a combination of the following:\n",
    "* Help your peers\n",
    "* Work on additional tasks\n",
    "* Work on the current programming assignment\n",
    "\n",
    "Take advantage of your TA and your peers as resources and make the most of lab time!"
   ]
  },
  {
   "cell_type": "markdown",
   "metadata": {},
   "source": [
    "## Task 1\n",
    "Note: CptS 111 TA Jackson was asked this question during an interview with Expedia. He solved it using Python!\n",
    "\n",
    "Write a program to count the number of \"holes\" in a string read in from an input file. For example, the letters A, D, O, P, and R each have one hole. The letter B has two holes and letters such as C, E, F, and K do not have any holes.\n",
    "\n",
    "Read a string from an input file and display the number of holes in the string to the user via the console.\n",
    "\n",
    "Example output:\n",
    "```\n",
    "BY THE WAY, CPTS 111 IS AWESOME! has 6 holes in it!\n",
    "```\n",
    "\n",
    "Starter code:\n",
    "```\n",
    "# open input file\n",
    "# text = input from file\n",
    "for char in text:\n",
    "    # define a function called num_holes(), returns the number of holes in the string\n",
    "    count += num_holes(char)\n",
    "# display result\n",
    "# close input file\n",
    "```"
   ]
  },
  {
   "cell_type": "markdown",
   "metadata": {},
   "source": [
    "## Task 2\n",
    "For the following problem, we will need to download a file: [words.txt](http://thinkpython2.com/code/words.txt). This file contains 113,809 official crossword words, one per line. Using words.txt, write a program with the following functionality:\n",
    "1. `get_letter()`: prompts the user for a letter that the user wants to count the number crossword words that start with that letter\n",
    "1. `open_input_file()`: opens words.txt for reading and returns the file object associated with words.txt\n",
    "1. `count_words_starting_with(letter, infile)`: reads through words.txt counting the number of words that begin with `letter`\n",
    "1. `close_file(infile)`: accepts the file object as an argument and closes the file\n",
    "1. `main()`: calls the above functions\n",
    "\n",
    "Example outputs:\n",
    "```\n",
    "Please enter a letter to count all words starting with: m\n",
    "6270 crossword words start with m in words.txt\n",
    "\n",
    "Please enter a letter to count all words starting with: q\n",
    "568 crossword words start with q in words.txt\n",
    "```"
   ]
  },
  {
   "cell_type": "markdown",
   "metadata": {},
   "source": [
    "## Task 3\n",
    "Write a program that is a very short version of the game [Madlibs](https://en.wikipedia.org/wiki/Mad_Libs). Your program should do the following:\n",
    "1. Print the following template:\n",
    ">Jeeves [verb] my [adjective] [noun] out of the [noun]\n",
    "as if he were a vegetarian fishing a [noun] out of his\n",
    "salad.\n",
    "1. Prompt the user for a verb, an adjective, and three nouns.\n",
    "1. Use string concatenation (i.e., the combining of strings with the plus sign) as appropriate to build a new string using the template with the terms in brackets replaced with the words the user provided.\n",
    "1. Write the new string to an output file."
   ]
  },
  {
   "cell_type": "markdown",
   "metadata": {
    "collapsed": true
   },
   "source": [
    "## Task 4\n",
    "This project is adapted from chapter 5 (problem 10) Hanly & Koffman. The problem states the following:\n",
    "\n",
    "Write a program to model a simple calculator. The user enters an operand and a value they want to calculate based on the accumulated result. Assume the left operand is the accumulator value (initially zero). Keep track of the number operations performed and report that value to the user when they choose to quit.\n",
    "\n",
    "For example:\n",
    "\n",
    "```\n",
    "+ 5.0\n",
    "Result so far: 5.0\n",
    "^ 2\n",
    "Result so far: 25.0\n",
    "/ 2.0\n",
    "Result so far: 12.5\n",
    "q 0\n",
    "\n",
    "3 total operations were performed\n",
    "```\n",
    "\n",
    "The valid operators are:\n",
    "\n",
    "```\n",
    "+ \tadd\n",
    "-   subtract\n",
    "*\tmultiply\n",
    "/\tdivide\n",
    "^\tpower (raise left operand to power of right operand, see example)\n",
    "q \tquit\n",
    "```\n",
    "\n",
    "Note: Are there any operator and operand pairs that could crash our program? How can we handle such case(s)?"
   ]
  },
  {
   "cell_type": "markdown",
   "metadata": {},
   "source": [
    "## Task 5\n",
    "This problem is adapted from problem 5.5 of Zelle, 2010. The problem states the following:\n",
    "\n",
    "Numerologists claim to be able to determine a person's character traits based on the \"numeric value\" of a name. The value of a name is determined by summing up the values of the letters of the name where \"a\" is 1, \"b\" is 2, \"c\" is 3 etc., up to \"z\" being 26. For example, the name \"Zelle\" would have the value 26 + 5 + 12 + 12 + 5 = 60 (which happens to be a very auspicious number, by the way). Write a program that calculates the numeric value of a single name provided as input.\n",
    "\n",
    "Hint: Use the [`ord(<character>)`](https://docs.python.org/3/library/functions.html#ord) built-in Python function to get the Unicode integer value for a character. For example, `ord(\"a\")` returns 97."
   ]
  },
  {
   "cell_type": "markdown",
   "metadata": {},
   "source": [
    "## Task 6\n",
    "Write a program to implement a simple [game of Nims](https://ocw.mit.edu/courses/electrical-engineering-and-computer-science/6-189-a-gentle-introduction-to-programming-using-python-january-iap-2011/assignments/MIT6_189IAP11_hw2.pdf) (AKA Stones). In this game, two players sit in front of a pile of 100 stones. They take turns, each removing between 1 and 5 stones from the pile (assuming there are at least 5 stones left in the pile). The person who removes the last stone(s) wins.\n",
    "\n",
    "Your program should validate user input, meaning, the user should only be allowed to enter an integer between 1 and 5 (or fewer, if there are fewer stones than 5 in the pile).\n",
    "\n",
    "(shortened) Example run:\n",
    "\n",
    "```\n",
    "There are 100 stones in the pile.\n",
    "Player 1 please select between 1 and 5 stones: \n",
    "6\n",
    "6 is not a valid number of stones to select.\n",
    "Player 1 please select between 1 and 5 stones: \n",
    "5\n",
    "There are 95 stones in the pile.\n",
    "\n",
    "(output removed for brevity)\n",
    "...\n",
    "\n",
    "There are 2 stones in the pile.\n",
    "Player 1 please select between 1 and 2 stones: \n",
    "3\n",
    "3 is not a valid number of stones to select.\n",
    "Player 1 please select between 1 and 2 stones: \n",
    "2\n",
    "Player 1 wins!\n",
    "\n",
    "```"
   ]
  },
  {
   "cell_type": "markdown",
   "metadata": {},
   "source": [
    "## Task 7\n",
    "Note: This problem is similar to Task 10 from Lab 7.\n",
    "\n",
    "Write a program that prompts the user for an integer, `n` (`n` >= 2), and sums all of the prime numbers from 2 to `n`. In your solution, include a function called `sum_primes()` that accepts an integer `n` as an argument and returns the sum of all primes from 2 to `n`. \n",
    "\n",
    "You may want to define a predicate function, `is_prime(n)`, that accepts an integer argument `n` and returns `True` if `n` is prime, `False` otherwise. Note: `is_prime(n)` is the solutions to Lab 7 Task 10."
   ]
  },
  {
   "cell_type": "markdown",
   "metadata": {
    "collapsed": true
   },
   "source": [
    "## Task 8\n",
    "Add new functionality to PA2 that prompts the user for how many pairs of cities they would like to enter (instead of the hard-coded 3 like we had before we learned about loops). For each pair, find the distance between the cities and the distance between each city and Pullman. "
   ]
  },
  {
   "cell_type": "markdown",
   "metadata": {},
   "source": [
    "## Task 9\n",
    "Add new functionality to PA3 that prompts the user via a menu. Ask the user if they would like to:\n",
    "1. View the instructions for the quiz\n",
    "1. Take the quiz\n",
    "1. Quit\n",
    "\n",
    "Also, let the user try as many times as needed on a question to get the answer right. "
   ]
  },
  {
   "cell_type": "markdown",
   "metadata": {},
   "source": [
    "## Task 10\n",
    "Add new functionality to PA5 to write the following new statistics to the output file:\n",
    "1. Average number of words in each track name\n",
    "1. Average number of characters in each artist name\n",
    "1. The longest track + artist name. For example, \"I Gotta Feeling The Black Eyed Peas\" has more characters than \"Hey Jude The Beatles\"."
   ]
  }
 ],
 "metadata": {
  "anaconda-cloud": {},
  "kernelspec": {
   "display_name": "Python [Root]",
   "language": "python",
   "name": "Python [Root]"
  },
  "language_info": {
   "codemirror_mode": {
    "name": "ipython",
    "version": 3
   },
   "file_extension": ".py",
   "mimetype": "text/x-python",
   "name": "python",
   "nbconvert_exporter": "python",
   "pygments_lexer": "ipython3",
   "version": "3.5.2"
  }
 },
 "nbformat": 4,
 "nbformat_minor": 0
}
