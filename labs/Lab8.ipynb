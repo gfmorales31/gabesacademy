{
 "cells": [
  {
   "cell_type": "markdown",
   "metadata": {},
   "source": [
    "# [CptS 111 Introduction to Algorithmic Problem Solving](http://piazza.com/wsu/fall2016/cpts111/home)\n",
    "[Washington State University](https://wsu.edu)\n",
    "\n",
    "[Gina Sprint](http://eecs.wsu.edu/~gsprint/)\n",
    "## Lab8 More Loops (10 pts)\n",
    "\n",
    "### Learner Objectives\n",
    "At the conclusion of this lab, participants should be able to:\n",
    "* Use `while`, `for`, and nested loops to repeat a sequence of Python statements\n",
    "\n",
    "### Prerequisites\n",
    "Before starting this lab, participants should be able to:\n",
    "* Use `while` loops to repeat a sequence of Python statements\n",
    "* Understand and apply Boolean conditions\n",
    "\n",
    "### Lab Format\n",
    "#### Task 0 and Pair Task\n",
    "Task 0 will be completed as a group with step-by-step guidance from your TA. After Task 0, your TA will group you into pairs and assign you a task (one of Tasks 1-10).\n",
    "\n",
    "#### Additional Tasks\n",
    "Once you complete Task 0 and your assigned task with a partner (pair task), you are to continue solving additional lab tasks until the end of lab. You are encouraged to complete *all* of the lab tasks. Practice, practice, practice! \n",
    "\n",
    "#### Completing a Task\n",
    "When you complete a task, show your TA your code and output. Also, help others with this task either in person or by answering questions in your [Piazza](http://piazza.com/wsu/fall2016/cpts111/home) lab section group. Helping your peers benefits both you and your classmates, as Albert Einstein said, \"You do not really understand something unless you can explain it to your grandmother.\" :)\n",
    "\n",
    "#### Lab Dismissal\n",
    "You are dismissed from lab when your TA dismisses you, or after 3 hours, whichever comes first. Your TA will dismiss you once you have demonstrated mastery of the material (completed a certain number of tasks). Should you demonstrate mastery before the end of lab, you are encouraged to stay and perform a combination of the following:\n",
    "* Help your peers\n",
    "* Work on additional tasks\n",
    "* Work on the current programming assignment\n",
    "\n",
    "Take advantage of your TA and your peers as resources and make the most of lab time!\n",
    "\n",
    "#### Note: Review Labs\n",
    "Labs 6 and 11 will be \"review\" labs where you solve/demo tasks you have not previously solved:\n",
    "1. Lab 6 (week 7): A certain number of tasks from Labs 1-6.\n",
    "1. Lab 10 (week 11): A certain number of tasks from Labs 7-10.\n",
    "\n",
    "Logically, it is to your benefit to work on the additional tasks now with the help of your TA and peers (and it will save you time later!)."
   ]
  },
  {
   "cell_type": "markdown",
   "metadata": {},
   "source": [
    "## Task 0\n",
    "### Part 1\n",
    "Write a program that prompts the user to enter a positive integer. Using a `for` loop, display all numbers that are multiples of the user entered integer in the range [1, 100] inclusive.\n",
    "\n",
    "Example output:\n",
    "\n",
    "```\n",
    "Please enter a positive integer: 10\n",
    "10\n",
    "20\n",
    "30\n",
    "40\n",
    "50\n",
    "60\n",
    "70\n",
    "80\n",
    "90\n",
    "100\n",
    "```\n",
    "\n",
    "### Part 1 Solution"
   ]
  },
  {
   "cell_type": "code",
   "execution_count": 5,
   "metadata": {
    "collapsed": false
   },
   "outputs": [
    {
     "name": "stdout",
     "output_type": "stream",
     "text": [
      "Please enter a positive integer: 25\n",
      "25\n",
      "50\n",
      "75\n",
      "100\n"
     ]
    }
   ],
   "source": [
    "n = int(input(\"Please enter a positive integer: \"))\n",
    "# for loop_control_variable in range(start, stop, step):\n",
    "for i in range(1, 101, 1):\n",
    "    if i % n == 0:\n",
    "        print(i)"
   ]
  },
  {
   "cell_type": "markdown",
   "metadata": {},
   "source": [
    "### Part 2\n",
    "Solve the task again using a `while` loop instead of a `for` loop.\n",
    "\n",
    "### Part 2 Solution"
   ]
  },
  {
   "cell_type": "code",
   "execution_count": 6,
   "metadata": {
    "collapsed": false
   },
   "outputs": [
    {
     "name": "stdout",
     "output_type": "stream",
     "text": [
      "Please enter a positive integer: 25\n",
      "25\n",
      "50\n",
      "75\n",
      "100\n"
     ]
    }
   ],
   "source": [
    "n = int(input(\"Please enter a positive integer: \"))\n",
    "i = 1\n",
    "while i <= 100:\n",
    "    if i % n == 0:\n",
    "        print(i)\n",
    "    i += 1"
   ]
  },
  {
   "cell_type": "markdown",
   "metadata": {
    "collapsed": true
   },
   "source": [
    "## Task 1\n",
    "Solve Lab 7 Task 1 (factorial) using a `for` loop instead of a `while` loop."
   ]
  },
  {
   "cell_type": "markdown",
   "metadata": {},
   "source": [
    "## Task 2\n",
    "Solve Lab 7 Task 4 (pi approximation) using a `for` loop instead of a `while` loop."
   ]
  },
  {
   "cell_type": "markdown",
   "metadata": {},
   "source": [
    "## Task 3\n",
    "Solve Lab 7 Task 6 (half-life) using a `for` loop instead of a `while` loop."
   ]
  },
  {
   "cell_type": "markdown",
   "metadata": {},
   "source": [
    "## Task 4\n",
    "Solve Lab 7 Task 7 (Fibonacci) using a `for` loop instead of a `while` loop."
   ]
  },
  {
   "cell_type": "markdown",
   "metadata": {},
   "source": [
    "## Task 5\n",
    "Solve Lab 7 Task 8 (tax bracket) using a `for` loop instead of a `while` loop."
   ]
  },
  {
   "cell_type": "markdown",
   "metadata": {},
   "source": [
    "## Task 6\n",
    "Solve Lab 7 Task 10 (primality test) using a `for` loop instead of a `while` loop."
   ]
  },
  {
   "cell_type": "markdown",
   "metadata": {},
   "source": [
    "## Task 7\n",
    "Part 1: Write a program that will prompt a user for an integer `N` and prints each number (from `1-N`) the same number of times as its value. e.g. an input of 5 will result in the following output:\n",
    "```\n",
    "1\n",
    "22\n",
    "333\n",
    "4444\n",
    "55555\n",
    "```\n",
    "Part 2: Complete the same task, but add the line sum add the end of each line:\n",
    "```\n",
    "1 1\n",
    "22 4\n",
    "333 9\n",
    "4444 16\n",
    "55555 25\n",
    "```\n",
    "\n",
    "Hint: Recall the string repetition operator: `spaces = \" \" * 5` will assign `spaces` a string of 5 spaces. Alternatively, you can use nested loops!\n",
    "\n",
    "Use functions where appropriate!"
   ]
  },
  {
   "cell_type": "markdown",
   "metadata": {},
   "source": [
    "## Task 8\n",
    "The snowflake returns... (this problem is based on a previous task from Lab 4):\n",
    "\n",
    "Write a program using Turtle graphics to draw a snowflake. Prompt the user to enter the following information about a snowflake:\n",
    "1. Arm length\n",
    "1. Number of arms\n",
    "1. Branch length\n",
    "1. Number of branches at the end of the arms. \n",
    "\n",
    "Write a function called `draw_snowflake(my_turtle, arm_length, num_arms, branch_length, num_arm_branches)` that draws a snowflake with arm and branch information specified by the user.\n",
    "\n",
    "Note: you might want to write additional functions! Such as `draw_arm()` and `draw_branch()`.\n",
    "\n",
    "For example (yours does not need to look exactly like this):\n",
    "`draw_snowflake(my_turtle, 100, 10, 30, 8)`\n",
    "![](https://raw.githubusercontent.com/gsprint23/cpts111/master/labs/figures/loop_snowflake.png)"
   ]
  },
  {
   "cell_type": "markdown",
   "metadata": {},
   "source": [
    "## Task 9\n",
    "This problem is adapted from problem 3.17 of Zelle, 2010.\n",
    "\n",
    "Write a program to approximate the square root of a number using a guess-and-check approach. To do this, you first guess what the square root might be and then see how close your guess is. You can use this information to make another guess and continue guessing until you have found the square root (or a close approximation of it). \n",
    "\n",
    "One particularly good way of making guesses is to use Newton's method. Suppose `x`  is the number we want the root of and `guess` is the current guessed answer. The guess can be improved by using $\\frac{guess + \\frac{x}{guess}}{2}$ as the next guess.\n",
    "\n",
    "Your program should prompt the user to enter the value to find the square root of (`x`) and the number of times to improve the guess. Starting with a guess value of `x/2`, your program should loop the specified number of times applying Newton's method and report the final value of `guess`. You should also subtract your estimate from the value of `math.sqrt(x)` to show how close it is.\n",
    "\n",
    "Example output:\n",
    "\n",
    "```\n",
    "Please enter a number to find the square root of: 2\n",
    "Please enter the number of loop iterations: 4\n",
    "\n",
    "sqrt(2.00) Approx: 1.414216 Actual: 1.414214 Difference: 0.000002\n",
    "```"
   ]
  },
  {
   "cell_type": "markdown",
   "metadata": {},
   "source": [
    "## Task 10\n",
    "This problem is adapted from problem 2.4 of Reges and Stepp, 2008.\n",
    "\n",
    "Write a program that produces the following output. Use a variable called `height` to make it possible to change the number of stairs in the figure.\n",
    "\n",
    "Hint: Recall the string repetition operator: `spaces = \" \" * 5` will assign `spaces` a string of 5 spaces. Alternatively, you can use nested loops!\n",
    "\n",
    "Example output (`height = 5`):\n",
    "\n",
    "```\n",
    "                      o  *******\n",
    "                     /|\\ *     *\n",
    "                     / \\ *     *\n",
    "                 o  ******     *\n",
    "                /|\\ *          *\n",
    "                / \\ *          *\n",
    "            o  ******          *\n",
    "           /|\\ *               *\n",
    "           / \\ *               *\n",
    "       o  ******               *\n",
    "      /|\\ *                    *\n",
    "      / \\ *                    *\n",
    "  o  ******                    *\n",
    " /|\\ *                         *\n",
    " / \\ *                         *\n",
    "********************************\n",
    "```"
   ]
  },
  {
   "cell_type": "markdown",
   "metadata": {},
   "source": [
    "## Challenge Task\n",
    "Note: Complete all other tasks before attempting this one.\n",
    "\n",
    "Write a program using Turtle graphics to draw a snake-like pattern that expands outwards for either:\n",
    "1. Square\n",
    "1. Circle\n",
    "1. Star\n",
    "\n",
    "Prompt the user for a loop count and what type of shape they would like drawn. Use the loop count to drive a `for` loop that incrementally increases the distance that the turtle moves forward. \n",
    "\n",
    "Note: you may want to set your turtle speed to 0 for fastest drawing: `my_turtle.speed(0)`\n",
    "\n",
    "Use functions where appropriate!\n",
    "\n",
    "For example:\n",
    "\n",
    "![](https://raw.githubusercontent.com/gsprint23/cpts111/master/labs/figures/box_path.png)\n",
    "![](https://raw.githubusercontent.com/gsprint23/cpts111/master/labs/figures/circle_path.png)\n",
    "![](https://raw.githubusercontent.com/gsprint23/cpts111/master/labs/figures/star_path.png)"
   ]
  }
 ],
 "metadata": {
  "anaconda-cloud": {},
  "kernelspec": {
   "display_name": "Python [Root]",
   "language": "python",
   "name": "Python [Root]"
  },
  "language_info": {
   "codemirror_mode": {
    "name": "ipython",
    "version": 3
   },
   "file_extension": ".py",
   "mimetype": "text/x-python",
   "name": "python",
   "nbconvert_exporter": "python",
   "pygments_lexer": "ipython3",
   "version": "3.5.2"
  }
 },
 "nbformat": 4,
 "nbformat_minor": 0
}
