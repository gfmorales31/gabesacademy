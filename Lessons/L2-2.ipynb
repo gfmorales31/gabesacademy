{
 "cells": [
  {
   "cell_type": "markdown",
   "metadata": {},
   "source": [
    "# [CptS 111 Introduction to Algorithmic Problem Solving](http://piazza.com/wsu/fall2016/cpts111/home)\n",
    "[Washington State University](https://wsu.edu)\n",
    "\n",
    "[Gina Sprint](http://eecs.wsu.edu/~gsprint/)\n",
    "# L2-2 Errors and Practice\n",
    "\n",
    "Learner objectives for this lesson\n",
    "* Practice arithmetic in Python"
   ]
  },
  {
   "cell_type": "markdown",
   "metadata": {},
   "source": [
    "## Programming Errors\n",
    "Rarely will you write a program that is free of errors. You'll need to diagnose and correct three kinds of errors:\n",
    "1. Syntax errors (code violates syntax rules for a proper Python program)\n",
    "    * Detected at compile time\n",
    "    * Program will not run unless they're corrected\n",
    "    * Examples\n",
    "        * Undeclared identifiers\n",
    "        * Invalid identifiers (e.g. a space in a variable name)\n",
    "        * Failure to close a comment or string properly\n",
    "        * Incorrect indenting (we will learn about indenting when we learn about functions)\n",
    "2. Run-time errors\n",
    "    * Cause the program to \"crash\": an error is reported, and control is turned over to the operating system\n",
    "    * Examples\n",
    "        * Division by zero\n",
    "        * Getting into an infinite loop, which may ultimately cause a \"stack overflow\"\n",
    "3. Logic Errors\n",
    "    * Cause the program to compute incorrect results\n",
    "    * Often go unnoticed, at least at first\n",
    "    * Examples\n",
    "        * Your algorithm is wrong because you misunderstand the problem\n",
    "        * You do not obtain input data properly, so your computations work on the wrong data.\n",
    "\n",
    "## Software Development Method\n",
    "Equivalent to the \"Scientific Method\" in the sciences and the \"Systems Approach\" in business.\n",
    "\n",
    "Six basic steps:\n",
    "1. Specify problem requirements\n",
    "1. Analyze the problem\n",
    "1. Design an algorithm to solve the problem\n",
    "1. Implement the algorithm\n",
    "1. Test and verify the completed program\n",
    "1. Maintain and update the program\n",
    "\n",
    "Developing software is an iterative process, your first solution is generally not your best. Your understanding of software your required to build evolves as you understand the problem more. At this point don't be afraid to make mistakes!\n",
    "\n",
    "## Practice Problems\n",
    "Note: Some problem descriptions have been taken from Chapter 2 of Hanly & Koffman's Problem Solving and Program Design in C (7th Edition)"
   ]
  },
  {
   "cell_type": "markdown",
   "metadata": {},
   "source": [
    "### Problem #1 Tax\n",
    "Write a program to compute the total price for a purchase after sales tax. Prompt the user to enter the purchase amount and the sales tax percent. Display the total price (to the nearest 2 decimal places) after adding the sales tax to the purchase amount.\n",
    "\n",
    "Example output:\n",
    "\n",
    "```\n",
    "Please enter the purchase price: 9.00\n",
    "Please enter the sales tax as a percent (%): 7.8\n",
    "Total purchase price after tax: $9.70\n",
    "```"
   ]
  },
  {
   "cell_type": "code",
   "execution_count": 4,
   "metadata": {
    "collapsed": false
   },
   "outputs": [
    {
     "name": "stdout",
     "output_type": "stream",
     "text": [
      "Please enter the purchase price: 10\n",
      "Please enter the sales tax as a percent (%): 9\n",
      "Total purchase price after tax: $10.90\n"
     ]
    }
   ],
   "source": [
    "purchase = float(input(\"Please enter the purchase price: \"))\n",
    "tax_percent = float(input(\"Please enter the sales tax as a percent (%): \"))\n",
    "\n",
    "tax = purchase * (tax_percent / 100.0)\n",
    "purchase += tax\n",
    "\n",
    "print(\"Total purchase price after tax: $%.2f\" %(purchase))"
   ]
  },
  {
   "cell_type": "markdown",
   "metadata": {},
   "source": [
    "### Problem #2 Mileage Reimbursement\n",
    "Write a program that calculates mileage reimbursement for a salesperson at the rate of \\$.35 per mile. \n",
    "\n",
    "Example output:\n",
    "\n",
    "```\n",
    "MILEAGE REIMBURSEMENT CALCULATOR\n",
    "Please enter the beginning odometer reading: 13505.2\n",
    "Please enter the ending odometer reading: 13810.6\n",
    "You traveled 305.4 miles. At $0.35 per mile, your reimbursement is $106.89\n",
    "```"
   ]
  },
  {
   "cell_type": "code",
   "execution_count": 1,
   "metadata": {
    "collapsed": false,
    "scrolled": true
   },
   "outputs": [
    {
     "name": "stdout",
     "output_type": "stream",
     "text": [
      "MILEAGE REIMBURSEMENT CALCULATOR\n",
      "Please enter the beginning odometer reading: 13505.2\n",
      "Please enter the ending odometer reading: 13810.6\n",
      "You traveled 305.4 miles. At $0.35 per mile, you reimbursement is $106.89\n"
     ]
    }
   ],
   "source": [
    "print(\"MILEAGE REIMBURSEMENT CALCULATOR\")\n",
    "odo_begin = float(input(\"Please enter the beginning odometer reading: \"))\n",
    "odo_end = float(input(\"Please enter the ending odometer reading: \"))\n",
    "\n",
    "dist_traveled = odo_end - odo_begin\n",
    "reimbursement = dist_traveled * .35\n",
    "print(\"You traveled %.1f miles. At $0.35 per mile, your reimbursement is $%.2f\" %(dist_traveled, reimbursement))"
   ]
  },
  {
   "cell_type": "markdown",
   "metadata": {},
   "source": [
    "### Problem #3 Pythagoras\n",
    "The Pythagorean theorem states that the sum of the squares of the sides of a right triangle is equal to the square of the hypotenuse.\n",
    "\n",
    "$$side1^{2} + side2^{2} = hypotenuse^{2}$$\n",
    "\n",
    "For example, if two sides of a right triangle have lengths 3 and 4, then the hypotenuse must have a length of 5. Together the integers 3, 4, and 5 form a Pythagorean triple. There are an infinite number of such triples. Given two positive integers `m` and `n`, **where `m`> `n`**, a Pythagorean triple can be generated by the following formulas:\n",
    "1. side1 = $m^2 – n^2$\n",
    "1. side2 = $2mn$\n",
    "1. hypotenuse = $m^2 + n^2$\n",
    "\n",
    "Write a program that takes the values for `m` and `n` as input and displays the values of the Pythagorean triple generated by the formulas above.\n",
    "\n",
    "Example output:\n",
    "\n",
    "```\n",
    "Please enter an m value: 4\n",
    "Please enter an n value: 2\n",
    "Pythagorean triple: 12^2 + 16^2 = 20^2\n",
    "```"
   ]
  },
  {
   "cell_type": "code",
   "execution_count": 11,
   "metadata": {
    "collapsed": false
   },
   "outputs": [
    {
     "name": "stdout",
     "output_type": "stream",
     "text": [
      "Please enter an m value: 4\n",
      "Please enter an n value: 2\n",
      "Pythagorean triple: 12^2 + 16^2 = 20^2\n"
     ]
    }
   ],
   "source": [
    "m = int(input(\"Please enter an m value: \"))\n",
    "n = int(input(\"Please enter an n value: \"))\n",
    "\n",
    "side1 = m ** 2 - n ** 2\n",
    "side2 = 2 * m * n\n",
    "hypotenuse = m ** 2 + n ** 2\n",
    "\n",
    "print(\"Pythagorean triple: %d^2 + %d^2 = %d^2\" %(side1, side2, hypotenuse))"
   ]
  },
  {
   "cell_type": "code",
   "execution_count": 1,
   "metadata": {
    "collapsed": false
   },
   "outputs": [
    {
     "name": "stdout",
     "output_type": "stream",
     "text": [
      "400\n",
      "400\n"
     ]
    }
   ],
   "source": [
    "# check the output\n",
    "print(12 * 12 + 16 * 16)\n",
    "print(20 * 20)"
   ]
  },
  {
   "cell_type": "markdown",
   "metadata": {},
   "source": [
    "## TODO\n",
    "1. To get good at programming you have to write code. Solve all of the practice problems above. Sketch out a pseudocode solution first on paper, then code them up in Python. \n",
    "2. Work on PA1.\n",
    "\n",
    "## Next Lesson\n",
    "We will learn how to write our own functions.\n",
    "\n",
    "Note: No class on Monday because of Labor Day, see you Wednesday! (or Tuesday if you have lab on Tuesday)"
   ]
  }
 ],
 "metadata": {
  "kernelspec": {
   "display_name": "Python 3",
   "language": "python",
   "name": "python3"
  },
  "language_info": {
   "codemirror_mode": {
    "name": "ipython",
    "version": 3
   },
   "file_extension": ".py",
   "mimetype": "text/x-python",
   "name": "python",
   "nbconvert_exporter": "python",
   "pygments_lexer": "ipython3",
   "version": "3.5.1"
  }
 },
 "nbformat": 4,
 "nbformat_minor": 0
}
