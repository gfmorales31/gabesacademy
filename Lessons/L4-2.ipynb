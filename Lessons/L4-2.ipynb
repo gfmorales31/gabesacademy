{
 "cells": [
  {
   "cell_type": "markdown",
   "metadata": {},
   "source": [
    "# [CptS 111 Introduction to Algorithmic Problem Solving](http://piazza.com/wsu/fall2016/cpts111/home)\n",
    "[Washington State University](https://wsu.edu)\n",
    "\n",
    "[Gina Sprint](http://eecs.wsu.edu/~gsprint/)\n",
    "# L4-2 More Functions\n",
    "\n",
    "Learner objectives for this lesson\n",
    "* Understand why functions are useful to use when designing programs and solving problems\n",
    "* Understand the execution flow of a program \n",
    "* Recognize the scope of a name (identifier)"
   ]
  },
  {
   "cell_type": "markdown",
   "metadata": {
    "collapsed": true
   },
   "source": [
    "## Why Use Functions?\n",
    "* Break a large, complex solution into logical units\n",
    "    * Individual members of a programming team can work on each unit independently\n",
    "* Procedural abstraction \n",
    "    * The calling function need not be aware of the details of how a function works—just what it does\n",
    "    * Thus, during high-level problem solving activities, we won't get bogged down in detail\n",
    "* Reuse\n",
    "    * Recall our comment on the original version of the program to compute and display the gpa of classes\n",
    "        * Redundant: Much code was duplicated\n",
    "    * Why re-write sections of code that have already been written and tested?\n",
    "    * Functions allow us to package up a well-designed solution into a **bite-size chunk that can be reused over and over**\n",
    "        * Name a group of statements for easier reading and debugging\n",
    "* Testing\n",
    "    * Allows for more efficient testing and bug resolution\n",
    "    * Each function is tested as it is implemented\n",
    "\n",
    "## How Functions are Executed\n",
    "* When a function is called, memory for local variables is allocated\n",
    "* Memory is released upon completion of function execution (local function variables do not \"outlive\" function)\n",
    "\n",
    "Example: Recall the function `display_gpa()`:"
   ]
  },
  {
   "cell_type": "code",
   "execution_count": 5,
   "metadata": {
    "collapsed": false
   },
   "outputs": [],
   "source": [
    "def display_gpa(gpa):\n",
    "    '''\n",
    "    Displays the final gpa to the user.\n",
    "    '''\n",
    "    print(\"Your GPA is: %.2f\" %(gpa))"
   ]
  },
  {
   "cell_type": "markdown",
   "metadata": {},
   "source": [
    "In a function call such as `display_gpa(3.4)`, the value 3.4 is considered the argument of the function. When the function is executed, the value 3.4 is *copied* into a **new local variable**, `gpa`. We call `gpa` a local variable because the variable is only accessible within `display_gpa()` on this particular functional call (`display_gpa(3.4)`).\n",
    "\n",
    "## Scope\n",
    "**Scope of a name**: region of a program where a particular meaning of a name is viible or can be referenced.\n",
    "\n",
    "### Global Variables\n",
    "Variables declared outside of a function are considered *global*. In general, global variables are a [bad idea](http://c2.com/cgi/wiki?GlobalVariablesAreBad) and we try to avoid using them.\n",
    "\n",
    "### Local Variables\n",
    "Parameter variables and variables declared within a function are considered *local*. Local variables are only visible from within that function; once function is done, variables go away (space is deallocated). Consider the following example:"
   ]
  },
  {
   "cell_type": "code",
   "execution_count": 3,
   "metadata": {
    "collapsed": false
   },
   "outputs": [],
   "source": [
    "max_val = 950\n",
    "\n",
    "def one(anarg, second):\n",
    "    '''\n",
    "    \n",
    "    '''\n",
    "    one_local = 0\n",
    "\n",
    "def fun_two(one, anarg):\n",
    "    '''\n",
    "    \n",
    "    '''\n",
    "    local_var = 0\n",
    "    \n",
    "def main():\n",
    "    '''\n",
    "    \n",
    "    '''\n",
    "    local_var = 0\n",
    "    \n",
    "one(0, 1)\n",
    "fun_two(5, 10)\n",
    "main()\n",
    "limit = 200"
   ]
  },
  {
   "cell_type": "markdown",
   "metadata": {},
   "source": [
    "When each of the above functions is executed, what is the scope of the following identifiers?\n",
    "\n",
    "|Name|visible in `one()`|visible in `fun_two()`|visible in `main()`|\n",
    "|----|------------------|----------------------|-------------------|\n",
    "|`max_val`|y|y|y|\n",
    "|`limit`|n|n|n|\n",
    "|`main`|y|y|y|\n",
    "|`local_var` (local variable in `main()`)|n|n|y|\n",
    "|`one` (function)|y|n|y|\n",
    "|`anarg` (parameter in `one()`)|y|n|n|\n",
    "|`second`|y|n|n|\n",
    "|`one_local`|y|n|n|\n",
    "|`fun_two`|y|y|y|\n",
    "|`one` (parameter in `fun_two()`)|n|y|n|\n",
    "|`anarg` (parameter in `fun_two()`)|n|y|n|\n",
    "|`local_var` (local variable in `fun_two()`)|n|y|n|"
   ]
  },
  {
   "cell_type": "markdown",
   "metadata": {},
   "source": [
    "## Body-less Functions\n",
    "You can define a function without adding a body by simply placing the reserved keyword `pass` in the body. This can be useful when you want to test your program one function at a time or when you want to organize your program without actually writing the functions (or as a placeholder if someone else is writing the function). Example:"
   ]
  },
  {
   "cell_type": "code",
   "execution_count": 7,
   "metadata": {
    "collapsed": true
   },
   "outputs": [],
   "source": [
    "def quadratic_root_finder(a, b, c):\n",
    "    '''\n",
    "    Applies the quadratic equation to find the roots of a quadratic function specified by the formula ax^2 + bx + c = 0\n",
    "    \n",
    "    To efficiently be implemented by someone else!\n",
    "    '''\n",
    "    pass"
   ]
  },
  {
   "cell_type": "markdown",
   "metadata": {},
   "source": [
    "## Function Testing\n",
    "Each function is itself a small-scale \"program\" \n",
    "* It has inputs\n",
    "* It has expected outputs or side-effects\n",
    "* Ideally, it is a self-contained \"black box\" (does not manipulate global variables)\n",
    "It makes sense to test each function independently\n",
    "* Correctness can be verified before it is used in a larger scale application\n",
    "A *test-driver* is a short program that tests a specific function\n"
   ]
  },
  {
   "cell_type": "markdown",
   "metadata": {},
   "source": [
    "## TODO\n",
    "1. Read chapter 3 in the textbook.\n",
    "1. Work on PA2\n",
    "\n",
    "## Next Lesson\n",
    "Debugging programs and function practice!"
   ]
  }
 ],
 "metadata": {
  "anaconda-cloud": {},
  "kernelspec": {
   "display_name": "Python [Root]",
   "language": "python",
   "name": "Python [Root]"
  },
  "language_info": {
   "codemirror_mode": {
    "name": "ipython",
    "version": 3
   },
   "file_extension": ".py",
   "mimetype": "text/x-python",
   "name": "python",
   "nbconvert_exporter": "python",
   "pygments_lexer": "ipython3",
   "version": "3.5.2"
  }
 },
 "nbformat": 4,
 "nbformat_minor": 0
}
