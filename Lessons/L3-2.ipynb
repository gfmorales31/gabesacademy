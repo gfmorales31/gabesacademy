{
 "cells": [
  {
   "cell_type": "markdown",
   "metadata": {},
   "source": [
    "# [CptS 111 Introduction to Algorithmic Problem Solving](http://piazza.com/wsu/fall2016/cpts111/home)\n",
    "[Washington State University](https://wsu.edu)\n",
    "\n",
    "\n",
    "[Gina Sprint](http://eecs.wsu.edu/~gsprint/)\n",
    "# L3-2 Modules\n",
    "\n",
    "Learner objectives for this lesson\n",
    "* Understand what a module is, how to import a module, and how to access identifiers contained within a module\n",
    "* Import the `math` module and utilize math-related variables and functions\n",
    "* Import and use the `turtle` module"
   ]
  },
  {
   "cell_type": "markdown",
   "metadata": {
    "collapsed": true
   },
   "source": [
    "## Python Modules\n",
    "A *module* is a file that contains a collection of related variables and functions. Python provides several modules for us programmers to use in our programs. In order to use the variables and functions within a module, we have to let Python know we want to use the module with an `import <name of module>` statement. "
   ]
  },
  {
   "cell_type": "code",
   "execution_count": 2,
   "metadata": {
    "collapsed": false
   },
   "outputs": [],
   "source": [
    "import math # math is a module containing... math functions!"
   ]
  },
  {
   "cell_type": "markdown",
   "metadata": {},
   "source": [
    "To access one of the variables or functions in a module, you type the module name (somewhere in the code *after* you import the module, remember Python executes code from top to bottom), followed by a dot, and then the name of the variable or function. For example, we can access an approximation of the mathematical constant `pi` ($\\pi$) in the `math` module:"
   ]
  },
  {
   "cell_type": "code",
   "execution_count": 6,
   "metadata": {
    "collapsed": false
   },
   "outputs": [
    {
     "name": "stdout",
     "output_type": "stream",
     "text": [
      "3.141592653589793\n"
     ]
    }
   ],
   "source": [
    "print(math.pi)"
   ]
  },
  {
   "cell_type": "markdown",
   "metadata": {},
   "source": [
    "As another example, to access the square root function of the `math` module, use `math.sqrt()`:"
   ]
  },
  {
   "cell_type": "code",
   "execution_count": 8,
   "metadata": {
    "collapsed": false
   },
   "outputs": [
    {
     "name": "stdout",
     "output_type": "stream",
     "text": [
      "Help on built-in function sqrt in module math:\n",
      "\n",
      "sqrt(...)\n",
      "    sqrt(x)\n",
      "    \n",
      "    Return the square root of x.\n",
      "\n",
      "None\n",
      "2.0\n"
     ]
    }
   ],
   "source": [
    "# don't forget the help() command to learn more about a function\n",
    "print(help(math.sqrt))\n",
    "\n",
    "print(math.sqrt(4))"
   ]
  },
  {
   "cell_type": "markdown",
   "metadata": {},
   "source": [
    "## Math Functions\n",
    "\n",
    "The Python math module defines numerous useful mathematical functions. This library is an excellent example of the power of functions: commonly-used mathematical operations are packaged up in functions that can be re-used over and over. We don't have to define these functions or know how they work, we can simply call the functions and use the return value(s). Examples of math functions available for our use include:\n",
    "* `fabs()` for absolute values\n",
    "* `ceil()` for computing the ceiling of a number\n",
    "* `floor()` for computing the floor of a number\n",
    "* `cos()` for cosine function\n",
    "* `sin()` for sine function\n",
    "* `tan()` for tangent function\n",
    "* `pow()` for raising a number to its power\n",
    "* `log()` for logarithms (see also `log2()` and `log10()`\n",
    "* `sqrt()` for computing square roots\n",
    "\n",
    "Note: trig functions expect arguments in radians, not degrees. To convert degrees to radians, multiply by (`math.pi` / 180) or use the `radians()` function in the `math` module.\n",
    "\n",
    "You can find out all the functions available within a module by importing the module, typing the module name and a dot, then pressing tab. This \"auto-complete\" feature is super helpful when learning a new library or when you can't remember the name of a function."
   ]
  },
  {
   "cell_type": "code",
   "execution_count": 3,
   "metadata": {
    "collapsed": false
   },
   "outputs": [
    {
     "name": "stdout",
     "output_type": "stream",
     "text": [
      "Absolute value of -5: 5\n",
      "45 degrees in radians is 0.79\n",
      "The sine of 45 degrees is 0.71\n"
     ]
    }
   ],
   "source": [
    "x = -5\n",
    "print(\"Absolute value of %d: %d\" %(x, math.fabs(x)))\n",
    "\n",
    "degrees = 45\n",
    "rads = degrees * (math.pi / 180.0)\n",
    "print(\"%d degrees in radians is %.2f\" %(degrees, rads))\n",
    "print(\"The sine of %d degrees is %.2f\" %(degrees, math.sin(rads)))"
   ]
  },
  {
   "cell_type": "markdown",
   "metadata": {},
   "source": [
    "## Turtle Graphics\n",
    "There are several Python modules available for doing graphical user interface (GUI) programming. For example, the `turtle` graphics library makes it really easy to draw pictures programmatically. We will return to `turtle` graphics later, but for now, check out how easy it is to draw:"
   ]
  },
  {
   "cell_type": "code",
   "execution_count": null,
   "metadata": {
    "collapsed": false
   },
   "outputs": [],
   "source": [
    "import turtle\n",
    "\n",
    "turt = turtle.Turtle()\n",
    "turt.forward(100)\n",
    "turtle.done()"
   ]
  },
  {
   "cell_type": "markdown",
   "metadata": {},
   "source": [
    "![](https://raw.githubusercontent.com/gsprint23/cpts111/master/lessons/figures/turtle_simple.png)"
   ]
  },
  {
   "cell_type": "markdown",
   "metadata": {},
   "source": [
    "## Example of Redundant Code: Average of 3 GPAs\n",
    "Problem Statement: Write a program that computes your grade point average after completion of 3 courses.\n",
    "\n",
    "Inputs:\n",
    "* Grade point and number of credits for course 1\n",
    "* Grade point and number of credits for course 2\n",
    "* Grade point and number of credits for course 3\n",
    "\n",
    "Outputs\n",
    "* Grade point average (GPA)\n",
    "Relevant formula: `GPA = ((grade_point1 * num_credits1) + (grade_point2 * num_credits2) + (grade_point3 * num_credits3)) / total_num_credits`\n",
    "\n",
    "### Algorithm\n",
    "1. Get the grade points earned from each class\n",
    "1. Get the credit hours for each class\n",
    "1. Compute the credits hours earned\n",
    "    * `weighted_credits = (grade_point1 * num_credits1) + (grade_point2 * num_credits2) + (grade_point3 * num_credits3)`\n",
    "1. Compute the total number of credits\n",
    "    * `total_num_credits = num_credits1 + num_credits2 + num_credits3`\n",
    "1. Compute the average of the grade points\n",
    "    * `gpa = weighted_credits / total_num_credits`\n",
    "1. Display the results  \n",
    "\n",
    "Implementation:"
   ]
  },
  {
   "cell_type": "code",
   "execution_count": 9,
   "metadata": {
    "collapsed": false
   },
   "outputs": [
    {
     "name": "stdout",
     "output_type": "stream",
     "text": [
      "Please enter the gpa for your computer science course: \n",
      "4.0\n",
      "Please enter number of credits for your computer science course: \n",
      "3\n",
      "Please enter the gpa for your math course: \n",
      "3.8\n",
      "Please enter number of credits for your math course: \n",
      "4\n",
      "Please enter the gpa for your karate course: \n",
      "4.0\n",
      "Please enter number of credits for your karate course: \n",
      "1\n",
      "Your GPA is: 3.90\n"
     ]
    }
   ],
   "source": [
    "# get grade point and credit hours for each class\n",
    "print(\"Please enter the gpa for your computer science course: \")\n",
    "gpa1 = float(input())\n",
    "print(\"Please enter number of credits for your computer science course: \")\n",
    "num_credits1 = int(input())\n",
    "\n",
    "print(\"Please enter the gpa for your math course: \")\n",
    "gpa2 = float(input())\n",
    "print(\"Please enter number of credits for your math course: \")\n",
    "num_credits2 = int(input())\n",
    "\n",
    "print(\"Please enter the gpa for your karate course: \")\n",
    "gpa3 = float(input())\n",
    "print(\"Please enter number of credits for your karate course: \")\n",
    "num_credits3 = int(input())\n",
    "\n",
    "# compute the weighted credit hours earned\n",
    "weighted_credits = (num_credits1 * gpa1) + (num_credits2 * gpa2) + (num_credits3 * gpa3)\n",
    "\n",
    "# compute the total number of credits earned\n",
    "total_num_credits = num_credits1 + num_credits2 + num_credits3\n",
    "\n",
    "# copute the average of the grade points\n",
    "gpa = weighted_credits / total_num_credits\n",
    "\n",
    "# display the results to the user\n",
    "print(\"Your GPA is: %.2f\" %(gpa))"
   ]
  },
  {
   "cell_type": "markdown",
   "metadata": {},
   "source": [
    "What do you think of this example? It seems redundant, right? We're using the exact same sequence of commands (`print()` and `input()`) to obtain the three grade points and credits. Is there a better (less redundant, easier to read, more concise) way to approach this problem? Enter: Functions!!"
   ]
  },
  {
   "cell_type": "markdown",
   "metadata": {},
   "source": [
    "## TODO\n",
    "1. Work on PA1, it is due Monday, September 12th at midnight.\n",
    "1. Read Chapter 3 (Functions) in the textbook.\n",
    "\n",
    "## Next Lesson\n",
    "We will define our own functions!!"
   ]
  }
 ],
 "metadata": {
  "kernelspec": {
   "display_name": "Python 3",
   "language": "python",
   "name": "python3"
  },
  "language_info": {
   "codemirror_mode": {
    "name": "ipython",
    "version": 3
   },
   "file_extension": ".py",
   "mimetype": "text/x-python",
   "name": "python",
   "nbconvert_exporter": "python",
   "pygments_lexer": "ipython3",
   "version": "3.5.1"
  }
 },
 "nbformat": 4,
 "nbformat_minor": 0
}
