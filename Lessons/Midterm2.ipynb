{
 "cells": [
  {
   "cell_type": "markdown",
   "metadata": {},
   "source": [
    "# [CptS 111 Introduction to Algorithmic Problem Solving](http://piazza.com/wsu/fall2016/cpts111/home)\n",
    "[Washington State University](https://wsu.edu)\n",
    "\n",
    "[Gina Sprint](http://eecs.wsu.edu/~gsprint/)\n",
    "#  Midterm #2 Solutions"
   ]
  },
  {
   "cell_type": "code",
   "execution_count": 3,
   "metadata": {
    "collapsed": false
   },
   "outputs": [
    {
     "name": "stdout",
     "output_type": "stream",
     "text": [
      "0...3\n",
      "6\n",
      "i\n",
      "False\n",
      "True\n",
      "wi\n",
      "ket\n",
      "TWIX\n",
      "ock\n",
      "twix is the best\n"
     ]
    }
   ],
   "source": [
    "vehicle = \"rocket\"\n",
    "my_candy = \"twix\"\n",
    "\n",
    "print(\"0...%d\" %(len(my_candy) - 1))\n",
    "print(len(vehicle))\n",
    "print(my_candy[2])\n",
    "print(\"Rocket\" == vehicle)\n",
    "print(\"apple\" < my_candy)\n",
    "print(my_candy[1:3])\n",
    "new_string = vehicle[3:]\n",
    "print(new_string)\n",
    "print(my_candy.upper())\n",
    "print(vehicle[1:4])\n",
    "new_string = my_candy + \" is the best\"\n",
    "print(new_string)"
   ]
  },
  {
   "cell_type": "markdown",
   "metadata": {},
   "source": [
    "String: sequence of characters\n",
    "\n",
    "Valid indices of a string in terms of string length, n: 0...n-1\n",
    "\n",
    "range\n",
    "\n",
    "strip\n",
    "\n",
    "immutable \n",
    "\n",
    "break"
   ]
  },
  {
   "cell_type": "code",
   "execution_count": null,
   "metadata": {
    "collapsed": true
   },
   "outputs": [],
   "source": [
    "# Open file\n",
    "infile = open(\"somefile.txt\", \"r\")\n",
    "# Process file\n",
    "infile.readline()\n",
    "# Close file\n",
    "infile.close()"
   ]
  },
  {
   "cell_type": "code",
   "execution_count": null,
   "metadata": {
    "collapsed": true
   },
   "outputs": [],
   "source": [
    "print(\"hello\")\n",
    "print(\"hello\", end=\"\")"
   ]
  },
  {
   "cell_type": "markdown",
   "metadata": {},
   "source": [
    "File modes covered in class:\n",
    "1. \"r\"\n",
    "1. \"w\"\n",
    "1. \"a\""
   ]
  },
  {
   "cell_type": "code",
   "execution_count": 4,
   "metadata": {
    "collapsed": false
   },
   "outputs": [
    {
     "name": "stdout",
     "output_type": "stream",
     "text": [
      "0\n",
      "1\n",
      "2\n",
      "Final value of i:  3\n"
     ]
    }
   ],
   "source": [
    "i = 0\n",
    "while i < 3:\n",
    "   print(i)\n",
    "   i += 1 \n",
    "print(\"Final value of i: \", i)"
   ]
  },
  {
   "cell_type": "code",
   "execution_count": null,
   "metadata": {
    "collapsed": true
   },
   "outputs": [],
   "source": [
    "# infinite loop\n",
    "# no progress towards BC being false\n",
    "i = 10\n",
    "while i > 5:\n",
    "   print(i)\n",
    "i -= 1"
   ]
  },
  {
   "cell_type": "code",
   "execution_count": 14,
   "metadata": {
    "collapsed": false
   },
   "outputs": [
    {
     "ename": "IndentationError",
     "evalue": "expected an indented block (<ipython-input-14-0f35cc1cd869>, line 4)",
     "output_type": "error",
     "traceback": [
      "\u001b[1;36m  File \u001b[1;32m\"<ipython-input-14-0f35cc1cd869>\"\u001b[1;36m, line \u001b[1;32m4\u001b[0m\n\u001b[1;33m    print(i)\u001b[0m\n\u001b[1;37m        ^\u001b[0m\n\u001b[1;31mIndentationError\u001b[0m\u001b[1;31m:\u001b[0m expected an indented block\n"
     ]
    }
   ],
   "source": [
    "# syntax error\n",
    "i = 0\n",
    "while i < 5:\n",
    "print(i)\n",
    "i += 1"
   ]
  },
  {
   "cell_type": "code",
   "execution_count": 8,
   "metadata": {
    "collapsed": false
   },
   "outputs": [
    {
     "name": "stdout",
     "output_type": "stream",
     "text": [
      "-4\n",
      "-2\n",
      "0\n",
      "2\n",
      "Final value of i:  2\n"
     ]
    }
   ],
   "source": [
    "for i in range(-4, 4, 2):\n",
    "   print(i)\n",
    "print(\"Final value of i: \", i)"
   ]
  },
  {
   "cell_type": "code",
   "execution_count": null,
   "metadata": {
    "collapsed": true
   },
   "outputs": [],
   "source": [
    "def open_input_file():\n",
    "    fname = input(\"Please enter the name of a file to open: \")\n",
    "    infile = open(fname, \"r\")\n",
    "    return infile"
   ]
  },
  {
   "cell_type": "code",
   "execution_count": null,
   "metadata": {
    "collapsed": true
   },
   "outputs": [],
   "source": [
    "import random\n",
    "for i in range(500):\n",
    "    print random.randrange(1, 9)"
   ]
  },
  {
   "cell_type": "code",
   "execution_count": 11,
   "metadata": {
    "collapsed": false
   },
   "outputs": [
    {
     "name": "stdout",
     "output_type": "stream",
     "text": [
      "Welcome to my game!\n",
      "1)View the rules\n",
      "2)Play the game\n",
      "3)Quit\n",
      ">1\n",
      "Here are the rules\n",
      "Welcome to my game!\n",
      "1)View the rules\n",
      "2)Play the game\n",
      "3)Quit\n",
      ">2\n",
      "Starting the game\n",
      "Welcome to my game!\n",
      "1)View the rules\n",
      "2)Play the game\n",
      "3)Quit\n",
      ">0\n",
      "Not a valid menu option\n",
      "Welcome to my game!\n",
      "1)View the rules\n",
      "2)Play the game\n",
      "3)Quit\n",
      ">3\n"
     ]
    }
   ],
   "source": [
    "choice = 1\n",
    "while choice != 3:\n",
    "    print(\"Welcome to my game!\")\n",
    "    print(\"1)View the rules\")\n",
    "    print(\"2)Play the game\")\n",
    "    print(\"3)Quit\")\n",
    "    choice = int(input(\">\"))\n",
    "    if choice == 1:\n",
    "        print(\"Here are the rules\")\n",
    "    elif choice == 2:\n",
    "        print(\"Starting the game\")\n",
    "    elif choice == 3:\n",
    "        pass\n",
    "    else:\n",
    "        print(\"Not a valid menu option\")"
   ]
  },
  {
   "cell_type": "code",
   "execution_count": 13,
   "metadata": {
    "collapsed": false
   },
   "outputs": [
    {
     "name": "stdout",
     "output_type": "stream",
     "text": [
      "Please enter an integer >= 2: 100\n",
      "The sum of the prime numbers from 2 to 100 is: 1060\n"
     ]
    }
   ],
   "source": [
    "import math\n",
    "\n",
    "# assume already defined\n",
    "def is_prime(n):\n",
    "    '''\n",
    "    \n",
    "    '''\n",
    "    prime = True\n",
    "    sqrt_n = math.sqrt(n)\n",
    "    m = 2\n",
    "    \n",
    "    while m <= sqrt_n and prime:\n",
    "        rem = n % m\n",
    "        if rem == 0:\n",
    "            prime = False\n",
    "        m += 1\n",
    "    return prime\n",
    "    \n",
    "def sum_primes(n):\n",
    "    '''\n",
    "    \n",
    "    '''\n",
    "    summ = 0\n",
    "    for i in range(2, n + 1):\n",
    "        if is_prime(i):\n",
    "            summ += i\n",
    "    return summ\n",
    "    \n",
    "\n",
    "n = int(input(\"Please enter an integer >= 2: \"))\n",
    "summ = sum_primes(n)\n",
    "print(\"The sum of the prime numbers from 2 to %d is: %d\" %(n, summ))"
   ]
  },
  {
   "cell_type": "markdown",
   "metadata": {},
   "source": [
    "String methods\n",
    "1. `strip`\n",
    "1. `upper`\n",
    "1. `lower`\n",
    "1. `find`\n",
    "1. `replace`\n",
    "1. Many others exist\n",
    "\n",
    "Strings are compared for equality based on their unicode values. \n",
    "\n",
    "One solution:\n",
    "\n",
    "Side1: 2, 8, 6, 1\n",
    "\n",
    "Side2: 1, 4, 9, 3\n",
    "\n",
    "Side3: 2, 5, 7, 3"
   ]
  }
 ],
 "metadata": {
  "anaconda-cloud": {},
  "kernelspec": {
   "display_name": "Python [Root]",
   "language": "python",
   "name": "Python [Root]"
  },
  "language_info": {
   "codemirror_mode": {
    "name": "ipython",
    "version": 3
   },
   "file_extension": ".py",
   "mimetype": "text/x-python",
   "name": "python",
   "nbconvert_exporter": "python",
   "pygments_lexer": "ipython3",
   "version": "3.5.2"
  }
 },
 "nbformat": 4,
 "nbformat_minor": 0
}
