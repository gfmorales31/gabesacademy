{
 "cells": [
  {
   "cell_type": "markdown",
   "metadata": {},
   "source": [
    "# [CptS 111 Introduction to Algorithmic Problem Solving](http://piazza.com/wsu/fall2016/cpts111/home)\n",
    "[Washington State University](https://wsu.edu)\n",
    "\n",
    "[Gina Sprint](http://eecs.wsu.edu/~gsprint/)\n",
    "# L6-1 If Statements\n",
    "\n",
    "Learner objectives for this lesson\n",
    "* Understand `if` statements"
   ]
  },
  {
   "cell_type": "markdown",
   "metadata": {
    "collapsed": true
   },
   "source": [
    "Algorithms are composed of three different kinds of statements:\n",
    "1. Sequence: the ability to execute a series of instructions, one after the other.\n",
    "1. Conditional: the ability to execute an instruction contingent upon some condition.\n",
    "1. Iteration: the ability to execute one or more instructions repeatedly.\n",
    "\n",
    "If statements are conditionals: the ability to **execute some code IF some condition is true**. \n",
    " \n",
    "## The `if` Statement\n",
    "The if statement supports conditional execution in Python:\n",
    "```\n",
    "if <test>:\n",
    "    <body>\n",
    "```\n",
    "\n",
    "`<test>` must be an expression that can be evaluated to either `True` or `False` (non-zero or zero), i.e. `<test>` is a **Boolean condition**\n",
    "`<body>` is one or more Python statements that are **indented** 4 spaces (or one tab, depending on your text editor)"
   ]
  },
  {
   "cell_type": "code",
   "execution_count": 1,
   "metadata": {
    "collapsed": false
   },
   "outputs": [
    {
     "name": "stdout",
     "output_type": "stream",
     "text": [
      "x is 5!!\n"
     ]
    }
   ],
   "source": [
    "x = 5\n",
    "\n",
    "if x == 5:\n",
    "    print(\"x is 5!!\")\n",
    "    \n",
    "if x == 7:\n",
    "    print(\"x is 7!!\")"
   ]
  },
  {
   "cell_type": "markdown",
   "metadata": {},
   "source": [
    "Python also defines an `if`-`else` statement:\n",
    "```\n",
    "if <test>:\n",
    "    <body-if-test-is-true>\n",
    "else:\n",
    "    <body-if-test-is-false>\n",
    "```\n",
    "\n",
    "**Only one of the two `<body>` blocks can be executed each time through this code**. In other words, they are \"mutually exclusive\".\n",
    "\n",
    "Note: the `else` has no `<test>` condition. The `else` body executes when the complement of `<test>` is True (i.e. `<test>` is False)."
   ]
  },
  {
   "cell_type": "code",
   "execution_count": 2,
   "metadata": {
    "collapsed": false
   },
   "outputs": [
    {
     "name": "stdout",
     "output_type": "stream",
     "text": [
      "Brrrrr...\n"
     ]
    }
   ],
   "source": [
    "temperature = 10\n",
    "\n",
    "if temperature > 32:\n",
    "    print(\"It is warm out!\")\n",
    "else: # temperature <= 32\n",
    "    print(\"Brrrrr...\")"
   ]
  },
  {
   "cell_type": "code",
   "execution_count": 3,
   "metadata": {
    "collapsed": false
   },
   "outputs": [
    {
     "name": "stdout",
     "output_type": "stream",
     "text": [
      "X: -1\n"
     ]
    }
   ],
   "source": [
    "x = y = z = 0\n",
    "y = y + 4\n",
    "z = z * x\n",
    "\n",
    "if z > y:  \n",
    "    print(\"Z: %d\" %(z + 1))\n",
    "else: # z <= y\n",
    "    print(\"X: %d\" %(x - 1))"
   ]
  },
  {
   "cell_type": "markdown",
   "metadata": {},
   "source": [
    "## Predicate Functions Revisited\n",
    "Let's rewrite `is_even()` to use `if-else` statements:"
   ]
  },
  {
   "cell_type": "code",
   "execution_count": 4,
   "metadata": {
    "collapsed": false
   },
   "outputs": [
    {
     "name": "stdout",
     "output_type": "stream",
     "text": [
      "False\n",
      "False\n",
      "True\n",
      "True\n"
     ]
    }
   ],
   "source": [
    "def is_even(x):\n",
    "    '''\n",
    "    \n",
    "    '''\n",
    "    flag = False\n",
    "    if x % 2 == 0:\n",
    "        # only sets flag to True when x is even\n",
    "        flag = True\n",
    "    return flag\n",
    "\n",
    "def is_even_revised(x):\n",
    "    '''\n",
    "    This function does not use a flag, instead it has multiple return statements\n",
    "    '''\n",
    "    if x % 2 == 0:\n",
    "        return True\n",
    "    else:\n",
    "        return False\n",
    "    \n",
    "print(is_even(5))\n",
    "print(is_even_revised(5))\n",
    "print(is_even(8))\n",
    "print(is_even_revised(8))"
   ]
  },
  {
   "cell_type": "markdown",
   "metadata": {},
   "source": [
    "## Common Mistakes with `if` Statements\n",
    "* Using = (assignment) instead of == (logical equality) \n",
    "* Using if-else when if-if should be used\n",
    "    * Remember else does not have an explicit condition associated with it\n",
    "* Using logical `and` instead of logical `or` and vice versa\n"
   ]
  },
  {
   "cell_type": "markdown",
   "metadata": {},
   "source": [
    "## TODO\n",
    "1. Get started on PA3\n",
    "\n",
    "## Next Lesson\n",
    "1. Multiple alternative `if` statements and nested `if` statements."
   ]
  }
 ],
 "metadata": {
  "anaconda-cloud": {},
  "kernelspec": {
   "display_name": "Python [Root]",
   "language": "python",
   "name": "Python [Root]"
  },
  "language_info": {
   "codemirror_mode": {
    "name": "ipython",
    "version": 3
   },
   "file_extension": ".py",
   "mimetype": "text/x-python",
   "name": "python",
   "nbconvert_exporter": "python",
   "pygments_lexer": "ipython3",
   "version": "3.5.2"
  }
 },
 "nbformat": 4,
 "nbformat_minor": 0
}
