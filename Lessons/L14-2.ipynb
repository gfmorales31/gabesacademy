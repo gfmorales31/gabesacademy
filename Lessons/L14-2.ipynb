{
 "cells": [
  {
   "cell_type": "markdown",
   "metadata": {},
   "source": [
    "# [CptS 111 Introduction to Algorithmic Problem Solving](http://piazza.com/wsu/fall2016/cpts111/home)\n",
    "[Washington State University](https://wsu.edu)\n",
    "\n",
    "[Gina Sprint](http://eecs.wsu.edu/~gsprint/)\n",
    "# L14-2 Object Oriented Programming\n",
    "\n",
    "Learner objectives for this lesson\n",
    "* Practice defining classes and implementing object oriented programming (OOP) concepts\n",
    "* Learn about operator overloading\n",
    "* Learn about composition"
   ]
  },
  {
   "cell_type": "markdown",
   "metadata": {},
   "source": [
    "## Practice Problem\n",
    "### Part 1\n",
    "Define a class called `Point`. A `Point` represents a position in 2 dimensional space, defined by an x and a y coordinate (no need to define any methods *yet*). \n",
    "\n",
    "Instantiate a `Point` object representing the origin (0,0):"
   ]
  },
  {
   "cell_type": "code",
   "execution_count": null,
   "metadata": {
    "collapsed": true
   },
   "outputs": [],
   "source": [
    "class Point:\n",
    "    '''\n",
    "    \n",
    "    '''\n",
    "\n",
    "origin = Point()\n",
    "origin.x = 0\n",
    "origin.y = 0"
   ]
  },
  {
   "cell_type": "markdown",
   "metadata": {},
   "source": [
    "### Part 2\n",
    "Re-write your `Point` definition and instantiation of `Point` to make use of an `__init__()` method:"
   ]
  },
  {
   "cell_type": "code",
   "execution_count": null,
   "metadata": {
    "collapsed": true
   },
   "outputs": [],
   "source": [
    "class Point:\n",
    "    '''\n",
    "    \n",
    "    '''\n",
    "    def __init__(self, x, y):\n",
    "        '''\n",
    "        \n",
    "        '''\n",
    "        self.x = x\n",
    "        self.y = y\n",
    "    \n",
    "point = Point(1, 4)"
   ]
  },
  {
   "cell_type": "markdown",
   "metadata": {},
   "source": [
    "### Part 3\n",
    "Add a method to `Point` called `display_point()` that displays `Point` information in the form: `(x, y)`. Then call `display_point()` to print a `Point` object."
   ]
  },
  {
   "cell_type": "code",
   "execution_count": null,
   "metadata": {
    "collapsed": true
   },
   "outputs": [],
   "source": [
    "class Point:\n",
    "    '''\n",
    "    \n",
    "    '''\n",
    "    def __init__(self, x, y):\n",
    "        '''\n",
    "        \n",
    "        '''\n",
    "        self.x = x\n",
    "        self.y = y\n",
    "        \n",
    "    def display_point(self):\n",
    "        '''\n",
    "        \n",
    "        '''\n",
    "        print(\"(%d,%d)\" %(self.x, self.y), end=\"\")\n",
    "    \n",
    "point = Point(1, 4)\n",
    "point.display_point()"
   ]
  },
  {
   "cell_type": "markdown",
   "metadata": {},
   "source": [
    "### Part 4\n",
    "Modify `display_point()` to implement the special function `__str__()`. Then print a `Point` object."
   ]
  },
  {
   "cell_type": "code",
   "execution_count": 2,
   "metadata": {
    "collapsed": false
   },
   "outputs": [
    {
     "name": "stdout",
     "output_type": "stream",
     "text": [
      "(1,4)\n"
     ]
    }
   ],
   "source": [
    "class Point:\n",
    "    '''\n",
    "    \n",
    "    '''\n",
    "    def __init__(self, x, y):\n",
    "        '''\n",
    "        \n",
    "        '''\n",
    "        self.x = x\n",
    "        self.y = y\n",
    "        \n",
    "    def __str__(self):\n",
    "        '''\n",
    "        \n",
    "        '''\n",
    "        return \"(%d, %d)\" %(self.x, self.y)\n",
    "    \n",
    "point = Point(1, 4)\n",
    "print(point)"
   ]
  },
  {
   "cell_type": "markdown",
   "metadata": {},
   "source": [
    "### Part 5\n",
    "Add a predicate method to `Point` called `equals()` that accepts another `Point` object and determines if it has the same `x` and `y` values as the calling object (think `self`). Then call `equals()` to determine if 2 `Point` objects store equivalent data."
   ]
  },
  {
   "cell_type": "code",
   "execution_count": 2,
   "metadata": {
    "collapsed": false
   },
   "outputs": [
    {
     "name": "stdout",
     "output_type": "stream",
     "text": [
      "(0,0) is equal to (0,0): True\n"
     ]
    }
   ],
   "source": [
    "class Point:\n",
    "    '''\n",
    "    \n",
    "    '''\n",
    "    def __init__(self, x, y):\n",
    "        '''\n",
    "        \n",
    "        '''\n",
    "        self.x = x\n",
    "        self.y = y\n",
    "        \n",
    "    def display_point(self):\n",
    "        '''\n",
    "        \n",
    "        '''\n",
    "        print(\"(%d,%d)\" %(self.x, self.y), end=\"\")\n",
    "        \n",
    "    def equals(self, other_point):\n",
    "        '''\n",
    "        \n",
    "        '''\n",
    "        if self.x == other_point.x and self.y == other_point.y:\n",
    "            return True\n",
    "        return False\n",
    "    \n",
    "origin = Point(0, 0)\n",
    "\n",
    "some_other_point = Point(0, 0)\n",
    "\n",
    "origin.display_point()\n",
    "print(\" is equal to \", end=\"\")\n",
    "some_other_point.display_point()\n",
    "print(\": %s\" %(origin.equals(some_other_point)))"
   ]
  },
  {
   "cell_type": "markdown",
   "metadata": {},
   "source": [
    "## Object Oriented Programming\n",
    "Object oriented programming (OOP) involves designing programs where most of the computation involves operations on objects. Classes are implemented to represent things in the real world and how they interact. While OOP is a vast subject (and sometimes more of an art than a science), we are going to just scratch the surface on how powerful OOP iswith the following concepts:\n",
    "* Operator overloading\n",
    "* Composition\n",
    "\n",
    "Other OOP concepts include:\n",
    "\n",
    "* Abstraction\n",
    "* Encapsulation\n",
    "* Inheritance\n",
    "* Polymorphism\n",
    "* Among others!\n",
    "\n",
    "You can read more about OOP concepts in Chapter 18 of the Downey textbook, as well as online and in other textbooks."
   ]
  },
  {
   "cell_type": "markdown",
   "metadata": {},
   "source": [
    "### Operator Overloading\n",
    "What about changing the syntax to compare two `Point` objects for equality from `point1.equals(point2)` to `point1 == point2`? We can achieve such behavior with special methods for defining operator functionality. This is called *operator overloading*. In the equality example, we are going to define the behavior for comparing two `Point` objects with the `==` operator."
   ]
  },
  {
   "cell_type": "markdown",
   "metadata": {},
   "source": [
    "#### The `__eq__()` Method\n",
    "All we have to do is modify our `equals()` method to implement the special method `__eq__()`:"
   ]
  },
  {
   "cell_type": "code",
   "execution_count": 1,
   "metadata": {
    "collapsed": false
   },
   "outputs": [
    {
     "name": "stdout",
     "output_type": "stream",
     "text": [
      "False\n",
      "True\n",
      "False\n"
     ]
    }
   ],
   "source": [
    "class Point:\n",
    "    '''\n",
    "    \n",
    "    '''\n",
    "    def __init__(self, x, y):\n",
    "        '''\n",
    "        \n",
    "        '''\n",
    "        self.x = x\n",
    "        self.y = y\n",
    "        \n",
    "    def __str__(self):\n",
    "        '''\n",
    "        \n",
    "        '''\n",
    "        return \"(%d,%d)\" %(self.x, self.y)\n",
    "        \n",
    "    def __eq__(self, other_point):\n",
    "        '''\n",
    "        \n",
    "        '''\n",
    "        if self.x == other_point.x and self.y == other_point.y:\n",
    "            return True\n",
    "        return False\n",
    "    \n",
    "point1 = Point(1, 4)\n",
    "point2 = Point(3, -2)\n",
    "point3 = Point(3, -2)\n",
    "\n",
    "# different x,y values\n",
    "print(point1 == point2)\n",
    "# same x,y values\n",
    "print(point2 == point3)\n",
    "# confirm they are different objects \n",
    "print(point2 is point3)"
   ]
  },
  {
   "cell_type": "markdown",
   "metadata": {},
   "source": [
    "#### Other Operators to Overload\n",
    "Try implementing the functionality for other operators:\n",
    "* `+`: `__add__()`\n",
    "* `-`: `__sub__()`\n",
    "* `<`: `__lt__()`\n",
    "* `>`: `__gt__()`\n",
    "* Read about more in the [Python documentation](https://docs.python.org/3/reference/datamodel.html#specialnames)"
   ]
  },
  {
   "cell_type": "markdown",
   "metadata": {},
   "source": [
    "### Composition\n",
    "Objects can have attributes that are other objects. Let's define a `Circle` class that has 2 attributes:\n",
    "1. `center`: a `Point` object representing the location of the center of a circle\n",
    "1. `radius`: a numeric value representing the radius of the circle"
   ]
  },
  {
   "cell_type": "code",
   "execution_count": 4,
   "metadata": {
    "collapsed": false
   },
   "outputs": [
    {
     "name": "stdout",
     "output_type": "stream",
     "text": [
      "Circle with center: (0,5) and radius 100.00\n"
     ]
    }
   ],
   "source": [
    "class Circle:\n",
    "    '''\n",
    "    \n",
    "    '''\n",
    "    def __init__(self, x, y, radius):\n",
    "        '''\n",
    "        \n",
    "        '''\n",
    "        center = Point(x, y)\n",
    "        self.center = center\n",
    "        self.radius = radius\n",
    "        \n",
    "    def __str__(self):\n",
    "        '''\n",
    "        \n",
    "        '''\n",
    "        return \"Circle with center: %s and radius %.2f\" %(self.center, self.radius)\n",
    "    \n",
    "circle = Circle(0, 5, 100.0)\n",
    "print(circle)"
   ]
  },
  {
   "cell_type": "markdown",
   "metadata": {},
   "source": [
    "Note: We can think of the relationship between a `Circle` and a `Point` as: \"a `Circle` **has a** `Point`\". The \"has a\" relationship is important to distinguish from the \"is a\" relationship of inheritance... You will learn about inheritance when you take CptS 122! :)"
   ]
  },
  {
   "cell_type": "markdown",
   "metadata": {},
   "source": [
    "## TODO\n",
    "1. Work on PA8\n",
    "1. Start studying for the final!\n",
    "\n",
    "## Next Lesson\n",
    "1. Converting to/from binary and decimal\n",
    "1. Review for the final"
   ]
  }
 ],
 "metadata": {
  "anaconda-cloud": {},
  "kernelspec": {
   "display_name": "Python [Root]",
   "language": "python",
   "name": "Python [Root]"
  },
  "language_info": {
   "codemirror_mode": {
    "name": "ipython",
    "version": 3
   },
   "file_extension": ".py",
   "mimetype": "text/x-python",
   "name": "python",
   "nbconvert_exporter": "python",
   "pygments_lexer": "ipython3",
   "version": "3.5.2"
  }
 },
 "nbformat": 4,
 "nbformat_minor": 0
}
