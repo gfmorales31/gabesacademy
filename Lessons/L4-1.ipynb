{
 "cells": [
  {
   "cell_type": "markdown",
   "metadata": {},
   "source": [
    "# [CptS 111 Introduction to Algorithmic Problem Solving](http://piazza.com/wsu/fall2016/cpts111/home)\n",
    "[Washington State University](https://wsu.edu)\n",
    "\n",
    "[Gina Sprint](http://eecs.wsu.edu/~gsprint/)\n",
    "# L4-1 Functions\n",
    "\n",
    "Learner objectives for this lesson\n",
    "* Call and define functions"
   ]
  },
  {
   "cell_type": "markdown",
   "metadata": {},
   "source": [
    "## Functions\n",
    "A **function** is a named sequence of statements that performs a computation. You can think of a function as a self-contained \"mini-program\" that solves a problem.\n",
    "\n",
    "General rule-of-thumb: **1 function = 1 task = 1 algorithm**\n",
    "\n",
    "You already have some practical understanding of functions from your mathematical background: $f(x) = x^2 - 4x + 4$. We pass the value of $x$ into a function called \"f\" and get a result back. \n",
    "\n",
    "In programming, we say a function *takes an argument* and *returns a result*.\n",
    "\n",
    "### Calling a Function\n",
    "Python functions can accept \"input arguments\"\n",
    "* The inputs to the function\n",
    "\n",
    "Python functions may return results via a reserved keyword `return` statement that specifies the \"output arguments\" (also called \"output parameters\")\n",
    "* The outputs of the function\n",
    "\n",
    "We have already used functions and seen them in action:"
   ]
  },
  {
   "cell_type": "code",
   "execution_count": null,
   "metadata": {
    "collapsed": true
   },
   "outputs": [],
   "source": [
    "# type() is a function that accepts an argument and returns the data type of the argument\n",
    "# type is the function name\n",
    "# 42 is the argument\n",
    "# data_type stores the return value from type\n",
    "data_type = type(42)"
   ]
  },
  {
   "cell_type": "markdown",
   "metadata": {},
   "source": [
    "Now, we are going to learn how to write our own functions!\n",
    "\n",
    "### Defining a Function\n",
    "A *function definition* specifies the name of the function and the statements to be executed when the function is \"called\". We call a program by its name when we want to run it. A function definition follows the general template:\n",
    "```\n",
    "def <function_name>(input parameters)\n",
    "    '''\n",
    "    docstring\n",
    "    '''\n",
    "    executable statements\n",
    "    ...\n",
    "    return <output parameters>\n",
    "```\n",
    "There are several aspects of a function to note:\n",
    "* `def` is a keyword that let's Python know you are about to declare a function\n",
    "* The function name should follow similar naming conventions and style guidelines as function names. Note that function names are user-defined identifiers and should not redefine standard-identifiers (e.g. built-in functions) or previously declared user-identifiers (e.g. your own variables you've already declared).\n",
    "* The input parameters represent data coming in to your function. Don't forget the colon after the last paren.\n",
    "* Together, `def`, function name, and input parameters form the *function header*\n",
    "* The remaining portion of the function is called the *function body*. **All statements of the function body should be indented 4 spaces**. Indentation is how Python *groups* the code you've written with the function header to collectively form the *function definition*.\n",
    "* A multi-line comment, called a docstring, immediately follows the function header. This is where you explain what the function does, what inputs it expects, what outputs it produces, what assumptions the function makes, etc. When you type `help(<function_name>)`, the text in the docstring is what shows up (cool!).\n",
    "* Following the docstring are one or more executable statements.\n",
    "* `return()` statements specify the output parameters (results) of your function. Although you can have multiple return statements, in this class we will typically only have one (good style usually dictates only having one return statement per function anyways).\n",
    "\n",
    "## Example Revisited: Enter Functions\n",
    "Let's write a function called `get_grade_point()`:"
   ]
  },
  {
   "cell_type": "code",
   "execution_count": 3,
   "metadata": {
    "collapsed": false
   },
   "outputs": [
    {
     "name": "stdout",
     "output_type": "stream",
     "text": [
      "Help on function get_grade_point in module __main__:\n",
      "\n",
      "get_grade_point(course_name)\n",
      "    docstring for get_grade_point()\n",
      "    \n",
      "    Prompts the user for a grade point based on a course.\n",
      "\n",
      "None\n"
     ]
    }
   ],
   "source": [
    "def get_grade_point(course_name):\n",
    "    '''\n",
    "    docstring for get_grade_point()\n",
    "    \n",
    "    Prompts the user for a grade point based on a course.\n",
    "    '''\n",
    "    print(\"Please enter the gpa for %s: \" %(course_name))\n",
    "    gpa = float(input())\n",
    "    return gpa\n",
    "\n",
    "print(help(get_grade_point))"
   ]
  },
  {
   "cell_type": "markdown",
   "metadata": {},
   "source": [
    "Now, everytime we want to read in information from the user about the grade point for a course, we can call `get_grade_point()` instead:"
   ]
  },
  {
   "cell_type": "code",
   "execution_count": 2,
   "metadata": {
    "collapsed": false
   },
   "outputs": [
    {
     "name": "stdout",
     "output_type": "stream",
     "text": [
      "Please enter the gpa for computer science: \n",
      "4.0\n",
      "Please enter number of credits for your computer science course: \n",
      "3\n",
      "Please enter the gpa for math: \n",
      "3.5\n",
      "Please enter number of credits for your math course: \n",
      "3\n",
      "Please enter the gpa for karate: \n",
      "4.0\n",
      "Please enter number of credits for your karate course: \n",
      "1\n",
      "Your GPA is: 3.79\n"
     ]
    }
   ],
   "source": [
    "# get grade point and credit hours for each class\n",
    "gpa1 = get_grade_point(\"computer science\")\n",
    "print(\"Please enter number of credits for your computer science course: \")\n",
    "num_credits1 = int(input())\n",
    "\n",
    "gpa2 = get_grade_point(\"math\")\n",
    "print(\"Please enter number of credits for your math course: \")\n",
    "num_credits2 = int(input())\n",
    "\n",
    "gpa3 = get_grade_point(\"karate\")\n",
    "print(\"Please enter number of credits for your karate course: \")\n",
    "num_credits3 = int(input())\n",
    "\n",
    "# compute the weighted credit hours earned\n",
    "weighted_credits = (num_credits1 * gpa1) + (num_credits2 * gpa2) + (num_credits3 * gpa3)\n",
    "\n",
    "# compute the total number of credits earned\n",
    "total_num_credits = num_credits1 + num_credits2 + num_credits3\n",
    "\n",
    "# compute the average of the grade points\n",
    "gpa = weighted_credits / total_num_credits\n",
    "\n",
    "# display the results to the user\n",
    "print(\"Your GPA is: %.2f\" %(gpa))"
   ]
  },
  {
   "cell_type": "markdown",
   "metadata": {},
   "source": [
    "### Let's write more functions for the other tasks in our program. Remember, 1 function = 1 task = 1 algorithm."
   ]
  },
  {
   "cell_type": "code",
   "execution_count": 4,
   "metadata": {
    "collapsed": true
   },
   "outputs": [],
   "source": [
    "def get_credits(course_name):\n",
    "    '''\n",
    "    Prompts the user for the number of credits for a course.\n",
    "    '''\n",
    "    print(\"Please enter the number of credits for %s: \" %(course_name))\n",
    "    num_credits = int(input())\n",
    "    return num_credits\n",
    "\n",
    "def compute_weighted_credits(gpa1, gpa2, gpa3, num_credits1, num_credits2, num_credits3):\n",
    "    '''\n",
    "    Computes the weighted credits for three courses.\n",
    "    '''\n",
    "    weighted_credits = (num_credits1 * gpa1) + (num_credits2 * gpa2) + (num_credits3 * gpa3)\n",
    "    return weighted_credits\n",
    "\n",
    "def sum_credits(credits1, credits2, credits3):\n",
    "    '''\n",
    "    \n",
    "    '''\n",
    "    total_credits = credits1 + credits2 + credits3\n",
    "    return total_credits\n",
    "\n",
    "def compute_gpa(weighted_credits, total_num_credits):\n",
    "    '''\n",
    "    Averages the weighted credits earned by the total number of credits taken.\n",
    "    '''\n",
    "    gpa = weighted_credits / total_num_credits\n",
    "    return gpa\n",
    "\n",
    "def display_gpa(gpa):\n",
    "    '''\n",
    "    Displays the final gpa to the user.\n",
    "    '''\n",
    "    print(\"Your GPA is: %.2f\" %(gpa))\n",
    "    "
   ]
  },
  {
   "cell_type": "markdown",
   "metadata": {},
   "source": [
    "And now, the new and improved program that utilizes functions:"
   ]
  },
  {
   "cell_type": "code",
   "execution_count": 6,
   "metadata": {
    "collapsed": false
   },
   "outputs": [
    {
     "name": "stdout",
     "output_type": "stream",
     "text": [
      "Please enter the gpa for computer science: \n",
      "4.0\n",
      "Please enter the number of credits for computer science: \n",
      "4\n",
      "Please enter the gpa for math: \n",
      "3.5\n",
      "Please enter the number of credits for math: \n",
      "3\n",
      "Please enter the gpa for karate: \n",
      "4.0\n",
      "Please enter the number of credits for karate: \n",
      "1\n",
      "Your GPA is: 3.81\n"
     ]
    }
   ],
   "source": [
    "# get grade point and credit hours for each class\n",
    "gpa1 = get_grade_point(\"computer science\")\n",
    "num_credits1 = get_credits(\"computer science\")\n",
    "\n",
    "gpa2 = get_grade_point(\"math\")\n",
    "num_credits2 = get_credits(\"math\")\n",
    "\n",
    "gpa3 = get_grade_point(\"karate\")\n",
    "num_credits3 = get_credits(\"karate\")\n",
    "\n",
    "# compute the weighted credit hours earned\n",
    "weighted_credits = compute_weighted_credits(gpa1, gpa2, gpa3, num_credits1, num_credits2, num_credits3)\n",
    "\n",
    "# compute the total number of credits earned\n",
    "total_num_credits = sum_credits(num_credits1, num_credits2, num_credits3)\n",
    "\n",
    "# copute the average of the grade points\n",
    "gpa = compute_gpa(weighted_credits, total_num_credits)\n",
    "\n",
    "# display the results to the user\n",
    "display_gpa(gpa)"
   ]
  },
  {
   "cell_type": "markdown",
   "metadata": {},
   "source": [
    "#### Program Execution Revisited\n",
    "* Python executes code from top to bottom; however, read a program based on it's execution *flow*, not necessarily from top to bottom.\n",
    "* Function definitions do not alter the flow of program execution.\n",
    "    * When Python encounters a function definition, it notes the existence of the function, but does not execute the function\n",
    "* Statements in a function definition are not executed until the function is *called*. \n",
    "    * Calling a function alters the top to bottom flow of program execution\n",
    "* Functions need to be defined *above* any code that calls the function.\n",
    "* When a function finishes executing, the next Python statement after the function call is executed.\n",
    "* Functions can call other functions!"
   ]
  },
  {
   "cell_type": "markdown",
   "metadata": {},
   "source": [
    "### TODO\n",
    "1. PA1 is due tonight at midnight.\n",
    "1. Re-write the cone_volume.py code to be modular, meaning it uses functions. What would be a logical breakdown of the program into functions? Perhaps a `get_radius()`, `get_height()`, `compute_volume()`, and `display_volume()`.\n",
    "\n",
    "## Next Lesson\n",
    "More functions! Functions that return mutiple values, functions that call other functions, and more."
   ]
  }
 ],
 "metadata": {
  "kernelspec": {
   "display_name": "Python [Root]",
   "language": "python",
   "name": "Python [Root]"
  },
  "language_info": {
   "codemirror_mode": {
    "name": "ipython",
    "version": 3
   },
   "file_extension": ".py",
   "mimetype": "text/x-python",
   "name": "python",
   "nbconvert_exporter": "python",
   "pygments_lexer": "ipython3",
   "version": "3.5.2"
  }
 },
 "nbformat": 4,
 "nbformat_minor": 0
}
