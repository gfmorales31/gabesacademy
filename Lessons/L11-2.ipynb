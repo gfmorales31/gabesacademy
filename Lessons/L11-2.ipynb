{
 "cells": [
  {
   "cell_type": "markdown",
   "metadata": {},
   "source": [
    "# [CptS 111 Introduction to Algorithmic Problem Solving](http://piazza.com/wsu/fall2016/cpts111/home)\n",
    "[Washington State University](https://wsu.edu)\n",
    "\n",
    "[Gina Sprint](http://eecs.wsu.edu/~gsprint/)\n",
    "# L11-2 Exam #2 Review"
   ]
  },
  {
   "cell_type": "markdown",
   "metadata": {
    "collapsed": true
   },
   "source": [
    "## What to Bring?\n",
    "* Two sharp pencils\n",
    "* Python Programming knowledge in your head :)\n",
    "* A \"cheat sheet\" (see below)  \n",
    "\n",
    "## What NOT to Bring?\n",
    "* Electronics (including calculators) may not be used during the exam!\n",
    "* Notes may not be used during the exam!\n",
    "\n",
    "Note: If you are caught cheating, your exam will be confiscated and you will receive a 0.\n",
    "\n",
    "Note: Use the restroom before class. **Once testing starts, the only reason for leaving the classroom is turning in your exam as done.**\n",
    "\n",
    "## The \"Cheat Sheet\"\n",
    "The exam will be closed-book, but you will be allowed a **handwritten** \"cheat sheet\": one side of a page whose dimensions may not exceed 8-1/2\" by 5-1/2\" (i.e. **one-half of a standard sheet of notebook paper**). You must present your cheat sheet to myself or a TA so it can be verified that it meets regulations. \n",
    "\n",
    "If you bring/use a cheat sheet that: \n",
    "1. Exceeds the allowable dimensions\n",
    "1. Has writing on both sides of the page\n",
    "1. Contains non-handwritten text (i.e. printed)\n",
    "\n",
    "You run the risk of its being confiscated prior to the exam. This policy will be strictly enforced.\n",
    "\n",
    "If you choose to use a cheat sheet, you will be required to turn in your cheat sheet with your exam.\n",
    "\n",
    "## Exam Timeframe\n",
    "Please be aware that, because you will be taking the exam during a normal lecture period (50 minutes), time will be extremely tight for the exam so manage your time well. If you show up late to class, you will have less time to take the exam. "
   ]
  },
  {
   "cell_type": "markdown",
   "metadata": {},
   "source": [
    "## Exam Coverage\n",
    "The exam covers everything we have covered so far in the course. Here is an outline of the topics we have covered so far:\n",
    "\n",
    "### Exam #1 Topics\n",
    "[Exam #1 review topics](http://nbviewer.jupyter.org/github/gsprint23/cpts111/blob/master/lessons/L7-1.ipynb)\n",
    "\n",
    "### 1 Iteration\n",
    "(Chapter 7 *Iteration* in the Downey textbook.)\n",
    "\n",
    "* Define what is repetition in programs\n",
    "    * Allows for a group of operations to be performed multiple times\n",
    "* Define what is one iteration\n",
    "    * Discuss how loops are defined based on iterations\n",
    "* When is a loop needed?\n",
    "* Apply and implement the 2 looping constructs supported in Python\n",
    "    * `while`\n",
    "        * Explicit progress towards the Boolean condition becoming false\n",
    "    * `for`\n",
    "        * Iterating over sequences\n",
    "        * `range()`\n",
    "    * When is one looping construct more appropriate than the other?\n",
    "* Identify, apply, and implement the major loop patterns\n",
    "    * Looping until a general Boolean condition is met\n",
    "        * i.e. `while bank_balance > 0:`\n",
    "    * Looping for a certain number of repetitions, which is known before loop execution\n",
    "        * i.e. `while count < 10:`\n",
    "    * Looping until a special value is encountered\n",
    "        * i.e. a menu\n",
    "        * i.e. `while choice != \"q\":`\n",
    "    * Looping until a value within valid range is entered by user\n",
    "        * i.e. `while is_valid == False:`\n",
    "* Apply and implement nested loops\n",
    "* `break` statement\n",
    "* What is an infinite loop?\n",
    "    * A loop which will execute \"forever\"\n",
    "* Describe and apply compound (shorthand) assignment operators\n",
    "    * These include: +=, -=, *=, /=, //=, %=\n",
    "* Provide an example of an off-by-one loop error"
   ]
  },
  {
   "cell_type": "markdown",
   "metadata": {},
   "source": [
    "### 2 File I/O\n",
    "(Section 9.1, *Reading Word Lists*, and Chapter 14, *Files* in the Downey textbook.)\n",
    "* What is a file object?\n",
    "    * A communication channel between the program and a file\n",
    "* What is the 3-step file processing template?\n",
    "    * Open a file\n",
    "    * Process the file\n",
    "    * Close the file\n",
    "* What is a file mode?\n",
    "* What is a path?\n",
    "    * Relative path vs absolute path\n",
    "* Apply `open()`, `close()`, `readline()`, `readlines()`, `print(file=<file object>)`and `write()`\n",
    "    * You should be able to open files for read and write modes\n",
    "    * Removing leading and trailing whitespace characters with `strip()`\n",
    "* Iterating through files until the end of a file is reached\n",
    "    * `for line in in_file.readlines():`\n",
    "    * `while line != \"\":`\n",
    "* Positioning in files (the file \"cursor\")\n",
    "* Calling `print()` to write to a file"
   ]
  },
  {
   "cell_type": "markdown",
   "metadata": {},
   "source": [
    "### 3 Strings\n",
    "(Chapter 8, *Strings*, and Chapter 9, *Case Study: Word Play* in the Downey textbook.)\n",
    "* Define what is a string in Python\n",
    "    * A sequence of alphabetic, numeric, and special characters\n",
    "* Declare and apply strings\n",
    "* String concatenation\n",
    "* String indexing\n",
    "    * 0 based\n",
    "    * Valid indices\n",
    "* Apply the built-in `len()` function\n",
    "    * Returns the length of a string\n",
    "* Iterating over characters in a string\n",
    "* String slicing\n",
    "* Strings are immutable\n",
    "    * Strings cannot be changed\n",
    "* String comparison\n",
    "    * Strings are compared by their Unicode values\n",
    "* String searching\n",
    "* Apply string methods\n",
    "    * `strip()`\n",
    "    * `upper()`\n",
    "    * `lower()`\n",
    "    * `find()`\n",
    "    * `replace()`\n",
    "    * others?"
   ]
  },
  {
   "cell_type": "markdown",
   "metadata": {},
   "source": [
    "### Other topics\n",
    "* Random number generation\n",
    "    * Import the `random` module\n",
    "    * Apply the `random.randrange()` function\n",
    "        * Pass in a starting integer and an ending integer + 1\n",
    "* `turtle` graphics and loops"
   ]
  },
  {
   "cell_type": "markdown",
   "metadata": {},
   "source": [
    "## Recommended Strategy for Preparing for the Exam\n",
    "The exam questions will require you to solve problems in a variety of formats: defining key terms, evaluating expressions, writing code, determining the output of code, etc.\n",
    "\n",
    "I recommend that you use the following activities and materials to prepare for the exam:\n",
    "* Review quizzes, lab exercises, programming assignments, and problems solved in class\n",
    "    * These may well be your best resource. An excellent learning activity would be to retake the quizzes and re-solve the lab exercises, in class exercises, and programming assignments. \n",
    "* Lesson notes and example code\n",
    "* Read the textbook\n",
    "    * Read or re-read chapters 1-3, 5 (no recursion), 6-9, 14, and Appendix A and in the Downey textbook. "
   ]
  },
  {
   "cell_type": "markdown",
   "metadata": {},
   "source": [
    "## Extra Practice Problems"
   ]
  },
  {
   "cell_type": "markdown",
   "metadata": {},
   "source": [
    "### 1\n",
    "The following questions refer to the following program segment:"
   ]
  },
  {
   "cell_type": "code",
   "execution_count": null,
   "metadata": {
    "collapsed": true
   },
   "outputs": [],
   "source": [
    "g = 0\n",
    "s = 0\n",
    "i = 50\n",
    "t = 0\n",
    "while i > 0: \n",
    "    t = int(input())\n",
    "    s = s + t\n",
    "    if t < 0:\n",
    "        g = g + 1\n",
    "    i -= 1"
   ]
  },
  {
   "cell_type": "markdown",
   "metadata": {},
   "source": [
    "1. How many times is the loop body of the while statement executed?\n",
    "1. At the end of the execution of the loop, describe the value stored in variable `s` \n",
    "1. At the end of the execution of the loop, describe the value stored in variable `g`\n",
    "1. Modify the above code in order to make the code more readable and indicative of its purpose."
   ]
  },
  {
   "cell_type": "markdown",
   "metadata": {},
   "source": [
    "### 2\n",
    "Write code to open a file output.txt for writing. Then write `pi` from the `math` module to 2 decimal places to the file and close the file."
   ]
  },
  {
   "cell_type": "markdown",
   "metadata": {},
   "source": [
    "### 3\n",
    "Write a program to copy the contents of one file to another. As part of your solution, define and call a function, `copy_file(source, destination)` that accepts two parameters:\n",
    "1. `source`: the name of the file to copy contents FROM\n",
    "1. `destination`: the name of the file to copy contents TO"
   ]
  },
  {
   "cell_type": "markdown",
   "metadata": {},
   "source": [
    "### 4\n",
    "The following questions refer to the following code: `course = \"CptS 111 Fall 2016\"`\n",
    "1. Write code to print the \"2\" in `course`\n",
    "1. Write code to print the \"111\" in `course` using the slice operator\n",
    "1. Write code to assign a new variable, `new_course`, `course`, but with \"Spring\" instead of \"Fall\"\n",
    "1. Write code to overwrite the string stored in `course` in all lower case letters"
   ]
  },
  {
   "cell_type": "markdown",
   "metadata": {},
   "source": [
    "### 5\n",
    "(Tricky) The output below is from code with a variable called NUM_STARS set to 5 that determines the number of stars to print on each line (how? :) ). Write code using iterative statements that produces this output for any value of NUM_STARS.\n",
    "\n",
    "```\n",
    "NUM_STARS 5:\n",
    "*****5\n",
    "0\n",
    "****4\n",
    "*1\n",
    "***3\n",
    "**2\n",
    "**2\n",
    "***3\n",
    "*1\n",
    "****4\n",
    "0\n",
    "*****5\n",
    "```"
   ]
  },
  {
   "cell_type": "markdown",
   "metadata": {},
   "source": [
    "### 6\n",
    "Write a `for` loop that sums the squares of the odd integers from -111 to 333 inclusive. "
   ]
  },
  {
   "cell_type": "markdown",
   "metadata": {},
   "source": [
    "### 7\n",
    "Write a function called `sum_multiples_of_2_5()` that returns the sum of the integers in the range [1, 100] inclusive that are multiples of 2 AND 5."
   ]
  },
  {
   "cell_type": "markdown",
   "metadata": {},
   "source": [
    "### 8\n",
    "Rewrite the following code segment as an equivalent segment that uses a `for` loop."
   ]
  },
  {
   "cell_type": "code",
   "execution_count": null,
   "metadata": {
    "collapsed": false
   },
   "outputs": [],
   "source": [
    "summ = 0\n",
    "next_val = 1\n",
    "bound = 10\n",
    "while next_val < bound: \n",
    "    summ += next_val + 1\n",
    "    next_val += 1\n",
    "print(summ)"
   ]
  },
  {
   "cell_type": "markdown",
   "metadata": {},
   "source": [
    "### 9\n",
    "What is printed by the following nested loop?"
   ]
  },
  {
   "cell_type": "code",
   "execution_count": null,
   "metadata": {
    "collapsed": false
   },
   "outputs": [],
   "source": [
    "for x in range(1, 5):\n",
    "    for y in range(x, x + 1, 1):\n",
    "        print(\"%d %d \" %(x, y), end=\"\")\n",
    "    print(\"\")"
   ]
  },
  {
   "cell_type": "markdown",
   "metadata": {},
   "source": [
    "### 10 \n",
    "Write a program to prompt the user to enter an integer that is even (for this problem, 0 is neither even nor odd). The code must ensure that en even number is entered. Once an even integer is entered, the program prints the integer to the screen."
   ]
  },
  {
   "cell_type": "markdown",
   "metadata": {},
   "source": [
    "### 11\n",
    "What is the output of the following code segment?"
   ]
  },
  {
   "cell_type": "code",
   "execution_count": null,
   "metadata": {
    "collapsed": false
   },
   "outputs": [],
   "source": [
    "for k in range(4, 0, -1): \n",
    "    for i in range(1, 5 - k + 1, 1):\n",
    "        print(\".\", end=\"\")\n",
    "    for j in range(1, 2 * k, 1):\n",
    "        print(\"A\", end=\"\")\n",
    "    print(\"\")"
   ]
  },
  {
   "cell_type": "markdown",
   "metadata": {},
   "source": [
    "### 12\n",
    "Given the following input file, sentence.txt:\n",
    "\n",
    "Example sentence.txt\n",
    "```\n",
    "Coding\n",
    "in\n",
    "Python\n",
    "is\n",
    "SUPER\n",
    "FUN\n",
    "```\n",
    "\n",
    "Write a program to do the following:\n",
    "1. Open an input file sentence.txt for reading\n",
    "1. Open an output file sentence_out.txt for writing\n",
    "1. Read each line in from the input file and write the following to the output file:\n",
    "    1. Print the contents of the line followed by a comma\n",
    "    1. Print the length of the line followed by a newline\n",
    "\n",
    "Example sentence_out.txt\n",
    "```\n",
    "Coding, 6\n",
    "in, 2\n",
    "Python, 6\n",
    "is, 2\n",
    "SUPER, 5\n",
    "FUN, 3\n",
    "```"
   ]
  },
  {
   "cell_type": "markdown",
   "metadata": {},
   "source": [
    "### 13\n",
    "Write a program that uses a loop to print out every other letter in the upper case alphabet. "
   ]
  },
  {
   "cell_type": "markdown",
   "metadata": {},
   "source": [
    "### 14\n",
    "Write a function called `get_string_length(a_string)` that returns the number of characters in the parameter `a_string`. Do not use `len()` in your solution."
   ]
  },
  {
   "cell_type": "markdown",
   "metadata": {},
   "source": [
    "### 15\n",
    "The following problem is adapted from problem 5.9 in Hanly and Koffman.\n",
    "\n",
    "Suppose you own a soda distribution that sells Pepsi (ID# 1), Dr. Pepper (ID# 2), Mountain Dew (ID# 3), and Crush (ID# 4) by the case. \n",
    "\n",
    "Write a program to:\n",
    "1. Read the case inventory from a file inventory.txt. In this file there are 4 numbers, one on each line, representing the number of cases for each soda in order of ID#.\n",
    "1. Display and implement the functionality for the following menu:\n",
    "    1.\tDisplay current inventory\n",
    "    1.\tPurchase cases\n",
    "    1.\tSell cases\n",
    "    1.\tExit\n",
    "1. Validate user input (i.e. there are enough cases in the inventory to sell and the menu choice is valid)"
   ]
  },
  {
   "cell_type": "markdown",
   "metadata": {},
   "source": [
    "## TODO\n",
    "1. Please study for the exam! At a *minimum*:\n",
    "    * Work or re-work through:\n",
    "        * The above practice problems\n",
    "        * Problems 1-3 from L11-1\n",
    "        * Tasks from the review lab: [Lab 10](http://nbviewer.jupyter.org/github/gsprint23/cpts111/blob/master/labs/Lab10.ipynb)\n",
    "        * PA4 and PA5\n",
    "    * Review key concepts and definitions\n",
    "1. Work on PA6.\n",
    "\n",
    "## Next Lesson\n",
    "1. We have midterm #2.\n",
    "1. Next week, we start lists!"
   ]
  }
 ],
 "metadata": {
  "anaconda-cloud": {},
  "kernelspec": {
   "display_name": "Python [Root]",
   "language": "python",
   "name": "Python [Root]"
  },
  "language_info": {
   "codemirror_mode": {
    "name": "ipython",
    "version": 3
   },
   "file_extension": ".py",
   "mimetype": "text/x-python",
   "name": "python",
   "nbconvert_exporter": "python",
   "pygments_lexer": "ipython3",
   "version": "3.5.2"
  }
 },
 "nbformat": 4,
 "nbformat_minor": 0
}
