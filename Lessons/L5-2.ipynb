{
 "cells": [
  {
   "cell_type": "markdown",
   "metadata": {},
   "source": [
    "# [CptS 111 Introduction to Algorithmic Problem Solving](http://piazza.com/wsu/fall2016/cpts111/home)\n",
    "[Washington State University](https://wsu.edu)\n",
    "\n",
    "[Gina Sprint](http://eecs.wsu.edu/~gsprint/)\n",
    "# L5-2 Boolean Conditions\n",
    "\n",
    "Learner objectives for this lesson\n",
    "* Understand what a Boolean condition is\n",
    "* Apply relational operators (<, >, <=, >=, ==, !=)\n",
    "* Apply logical operators (and, or, not)\n",
    "* Apply Boolean types\n",
    "* Define and call predicate functions"
   ]
  },
  {
   "cell_type": "markdown",
   "metadata": {
    "collapsed": true
   },
   "source": [
    "Algorithms are composed of three different kinds of statements:\n",
    "1. Sequence: the ability to execute a series of instructions, one after the other.\n",
    "1. Conditional: the ability to execute an instruction contingent upon some condition.\n",
    "1. Iteration: the ability to execute one or more instructions repeatedly.\n",
    "\n",
    "If statements are conditionals: the ability to **execute some code IF some condition is true**. \n",
    "\n",
    "## Boolean Conditions\n",
    "Conditional statements rely on a Boolean condition, which evaluates to either true or false\n",
    "In Python, the true and false values are actually represented by the reserved keywords `True` and `False`. Numerical values also have a \"True\" and \"False\" meaning:\n",
    "* False: 0\n",
    "* True: any number except 0 (usually 1)\n",
    "\n",
    "### Relational Operators\n",
    "Relational operators are used to build Boolean conditions:\n",
    "* < (less than)\n",
    "* \\> (greater than)\n",
    "* <= (less than or equal to)\n",
    "* \\>= (greater than or equal to)\n",
    "* == (equal to)\n",
    "* != (not equal to)"
   ]
  },
  {
   "cell_type": "code",
   "execution_count": 2,
   "metadata": {
    "collapsed": false,
    "scrolled": true
   },
   "outputs": [
    {
     "name": "stdout",
     "output_type": "stream",
     "text": [
      "False\n",
      "False\n",
      "True\n",
      "True\n",
      "100\n",
      "False\n",
      "True\n",
      "True\n"
     ]
    }
   ],
   "source": [
    "x = 3\n",
    "y = 4\n",
    "max_val = 100\n",
    "min_val = 0\n",
    "\n",
    "print(x <= 0)\n",
    "print(x == y)\n",
    "print(max_val >= min_val)\n",
    "print(max_val != False)\n",
    "print(max_val) # since this is 100, which is not 0, this is essential \"True\"\n",
    "print(min_val != 0)\n",
    "print(max_val == 99 + 1)\n",
    "print(min_val - 50 < 0)"
   ]
  },
  {
   "cell_type": "markdown",
   "metadata": {},
   "source": [
    "### Logical Operators\n",
    "We can combine relational operators with logical operators to construct general Boolean expressions in Python:\n",
    "* `and`\n",
    "* `or`\n",
    "* `not`\n",
    "\n",
    "Truth table\n",
    "\n",
    "|P|Q|not P|P and Q|P or Q|\n",
    "|-|-|-|-|-|\n",
    "|0|0|1|0|0|\n",
    "|0|1|1|0|1|\n",
    "|1|0|0|0|1|\n",
    "|1|1|0|1|1|\n"
   ]
  },
  {
   "cell_type": "code",
   "execution_count": 3,
   "metadata": {
    "collapsed": false
   },
   "outputs": [
    {
     "name": "stdout",
     "output_type": "stream",
     "text": [
      "True\n",
      "True\n"
     ]
    }
   ],
   "source": [
    "temp = 50\n",
    "max_temp = 90\n",
    "precip = 2.0\n",
    "num_votes = 20\n",
    "votes_needed = 20\n",
    "elected = 0\n",
    "\n",
    "print((temp < max_temp) and (precip > 0))\n",
    "print((num_votes >= votes_needed or (not elected)))"
   ]
  },
  {
   "cell_type": "markdown",
   "metadata": {},
   "source": [
    "### Operator Precedence\n",
    "Just like numeric operators (+, -, /, //, %, \\*), logical operators have precedence rules that determine order of evaluation\n",
    "From highest to lowest, the precedences are as follows: \n",
    "[Most are left-to-right; but not exponentiation and assignment]\n",
    "\n",
    "|Operator|Precedence|\n",
    "|--------------|---------|\n",
    "|() (parentheses)|(highest)|\n",
    "|function calls||\n",
    "|**||\n",
    "|+, - (unary operators)||\n",
    "|\\*, /, //, %||\n",
    "|+, -||\n",
    "|**<, <=, >=, >**, **==, !=**||\n",
    "|**not**||\n",
    "|**and**||\n",
    "|**or**||\n",
    "|= (assignment)|(lowest)|\n",
    "\n",
    "An example: "
   ]
  },
  {
   "cell_type": "code",
   "execution_count": 4,
   "metadata": {
    "collapsed": false
   },
   "outputs": [
    {
     "name": "stdout",
     "output_type": "stream",
     "text": [
      "True\n"
     ]
    }
   ],
   "source": [
    "flag = 0\n",
    "y = 4.0\n",
    "z = 2.0\n",
    "x = 3.0\n",
    "\n",
    "print(not flag or (y + z >= x - z))"
   ]
  },
  {
   "cell_type": "markdown",
   "metadata": {},
   "source": [
    "### Short Circuit Evaluation\n",
    "Notice that, in case of `and`, if the first part of expression is false, the entire expression must be false\n",
    "* Example: `(5 < 3) and (4 > 3)`\n",
    "Likewise, in case of `or`, if the first part of expression is true, the entire expression must be true\n",
    "* Example: `(4 > 2) or (2 > 3)`\n",
    "In these two cases, Python short-circuits evaluation: Evaluation stops after first part of expression is evaluated\n",
    "\n",
    "### Complement (`not`)\n",
    "The complement of a condition can be obtained by applying the `not` operator\n",
    "* Example: The complement of `temp > 32` is `not (temp > 32)`, which can also be written as `temp <= 32`\n",
    "* Example: The complement of `temp == 32` is `not (temp == 32)`, which can also be written as `(temp != 32)`\n",
    "\n",
    "Apply **DeMorgan's Laws** to complement compound logical expressions:\n",
    "* Complement of `X and Y` is `not X or not Y`\n",
    "* Complement of `X or Y` is `not X and not Y`\n",
    "\n",
    "Example: `(temp > 32) and (num_clouds == 0 or num_clouds == 1)` is true when the temperature is above freezing and the number of clouds in the sky is 0 or 1. By applying DeMorgan's Laws, the complement of this statement is:\n",
    "`(temp <= 32) or (num_clouds != 0 and num_clouds != 1)` which is true when the temperature is at or below freezing, and there are more than 1 cloud in the sky.\n"
   ]
  },
  {
   "cell_type": "markdown",
   "metadata": {},
   "source": [
    "## Logical Assignment\n",
    "In addition to integers, floats, and strings, there is a data type called `Boolean`. We can store `True` or `False` in a Boolean type:"
   ]
  },
  {
   "cell_type": "code",
   "execution_count": 2,
   "metadata": {
    "collapsed": false
   },
   "outputs": [
    {
     "name": "stdout",
     "output_type": "stream",
     "text": [
      "True 1\n"
     ]
    }
   ],
   "source": [
    "boolean_condition = True\n",
    "print(\"%s %d\" %(boolean_condition, boolean_condition))"
   ]
  },
  {
   "cell_type": "markdown",
   "metadata": {},
   "source": [
    "## Predicate Functions\n",
    "We can also write functions that return Booleans. Such a function is called a *predicate function*. For example, consider the following function that accepts a number as an argument and returns true or false based on whether or not the value is even:"
   ]
  },
  {
   "cell_type": "code",
   "execution_count": 14,
   "metadata": {
    "collapsed": false
   },
   "outputs": [
    {
     "name": "stdout",
     "output_type": "stream",
     "text": [
      "False\n"
     ]
    }
   ],
   "source": [
    "def is_even(x):\n",
    "    '''\n",
    "    \n",
    "    '''\n",
    "    return x % 2 == 0\n",
    "\n",
    "print(is_even(7))"
   ]
  },
  {
   "cell_type": "markdown",
   "metadata": {},
   "source": [
    "## TODO\n",
    "1. Finish PA2! It is due Monday at midnight.\n",
    "1. Read chapter 5 in Downey. Ignore the sections about recursion, we are not going to cover recursion in this class.\n",
    "\n",
    "## Next Lesson\n",
    "1. We learn about `if` statements, it will be fun!"
   ]
  }
 ],
 "metadata": {
  "anaconda-cloud": {},
  "kernelspec": {
   "display_name": "Python [Root]",
   "language": "python",
   "name": "Python [Root]"
  },
  "language_info": {
   "codemirror_mode": {
    "name": "ipython",
    "version": 3
   },
   "file_extension": ".py",
   "mimetype": "text/x-python",
   "name": "python",
   "nbconvert_exporter": "python",
   "pygments_lexer": "ipython3",
   "version": "3.5.2"
  }
 },
 "nbformat": 4,
 "nbformat_minor": 0
}
