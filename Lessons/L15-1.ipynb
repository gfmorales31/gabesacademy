{
 "cells": [
  {
   "cell_type": "markdown",
   "metadata": {},
   "source": [
    "# [CptS 111 Introduction to Algorithmic Problem Solving](http://piazza.com/wsu/fall2016/cpts111/home)\n",
    "[Washington State University](https://wsu.edu)\n",
    "\n",
    "[Gina Sprint](http://eecs.wsu.edu/~gsprint/)\n",
    "# L15-1 Final Exam Review"
   ]
  },
  {
   "cell_type": "markdown",
   "metadata": {
    "collapsed": true
   },
   "source": [
    "## What to Bring?\n",
    "* Two sharp pencils\n",
    "* Python Programming knowledge in your head :)\n",
    "* A \"cheat sheet\" (see below)  \n",
    "\n",
    "## What NOT to Bring?\n",
    "* Electronics (including calculators) may not be used during the exam!\n",
    "* Notes may not be used during the exam!\n",
    "\n",
    "Note: If you are caught cheating, your exam will be confiscated and you will receive a 0.\n",
    "\n",
    "Note: Use the restroom before class. **Once testing starts, the only reason for leaving the classroom is turning in your exam as done.**\n",
    "\n",
    "## The \"Cheat Sheet\"\n",
    "The exam will be closed-book, but you will be allowed a **handwritten** \"cheat sheet\": one side of a page whose dimensions may not exceed 8-1/2\" by 5-1/2\" (i.e. **one-half of a standard sheet of notebook paper**). You must present your cheat sheet to myself or a TA so it can be verified that it meets regulations. \n",
    "\n",
    "If you bring/use a cheat sheet that: \n",
    "1. Exceeds the allowable dimensions\n",
    "1. Has writing on both sides of the page\n",
    "1. Contains non-handwritten text (i.e. printed)\n",
    "\n",
    "You run the risk of its being confiscated prior to the exam. This policy will be strictly enforced.\n",
    "\n",
    "If you choose to use a cheat sheet, you will be required to turn in your cheat sheet with your exam.\n",
    "\n",
    "## Exam Timeframe\n",
    "You will have 2 hours (120 minutes) to take the exam. Time will be extremely tight for the exam so manage your time well. If you show up late to class, you will have less time to take the exam. \n",
    "\n",
    "Note: **NO EARLY EXAMINATIONS**, as per [university policy](https://registrar.wsu.edu/media/753372/Fall%202016%20Final%20Exam.pdf). Final Examinations will not be rescheduled for the purpose of leaving the institution before the close of the semester (per academic rule 79). This means you are to take your CptS 111 final exam during your scheduled time block:\n",
    "\n",
    "* *Section 01 (2:10pm lecture)*: Friday, December 16th; 8:00 – 10:00am\n",
    "* *Section 02 (3:10pm lecture)*: Wednesday, December 14th; 3:10 – 5:10pm"
   ]
  },
  {
   "cell_type": "markdown",
   "metadata": {},
   "source": [
    "## Exam Coverage\n",
    "The exam covers everything we have covered in the course. Here is an outline of the topics we have covered so far:\n",
    "\n",
    "### Exam #1 Topics\n",
    "[Exam #1 review topics](http://nbviewer.jupyter.org/github/gsprint23/cpts111/blob/master/lessons/L7-1.ipynb)\n",
    "\n",
    "\n",
    "### Exam #2 Topics\n",
    "[Exam #2 review topics](http://nbviewer.jupyter.org/github/gsprint23/cpts111/blob/master/lessons/L11-2.ipynb)\n",
    "\n",
    "\n",
    "### 1 Lists\n",
    "(Chapter 10 *Lists* in the Downey textbook.)\n",
    "* Describe what is a list\n",
    "    * A sequence of times with one variable name\n",
    "    * A list is considered a data structure\n",
    "        * A data structure is a way of storing and organizing information; a composite of related data items\n",
    "    * Lists can have items of different types\n",
    "    * Lists are mutable\n",
    "* Declare and apply single and 2-dimensional lists (nested lists)\n",
    "    * Use [ ] (hard brackets) to declare lists\n",
    "    * `list()`\n",
    "* Define what is an index\n",
    "    * Recall list indexing in C starts at 0\n",
    "* Lists and loops\n",
    "    * Use a loop to initialize each item in a list\n",
    "    * Use loops to traverse through lists\n",
    "* Write functions which accept lists (single and 2-dimensional) as parameters\n",
    "* What happens when a list is passed to a function?\n",
    "    * The list reference is copied and passed into the function\n",
    "    * Via the reference, the function can modify the list\n",
    "* Return lists from functions\n",
    "* How to get the number of items in a list?\n",
    "* Understand and apply list operators (e.g. concatenation, repetition, slice, etc.)\n",
    "* Understand and apply list methods (e.g. `append()`, `extend()`, etc.)\n",
    "* Understand and apply string methods that return lists (e.g. `join()`, `split()`, etc.)\n",
    "* Remove items in a list\n",
    "* Describe what is aliasing\n",
    "    * When two or more references refer to the same object\n",
    "    * Difference between how Python creates objects for mutable types (e.g. lists) and immutable types (e.g. strings)"
   ]
  },
  {
   "cell_type": "markdown",
   "metadata": {},
   "source": [
    "### 2 Tuples\n",
    "(Chapter 12 *Tuples* in the Downey textbook.)\n",
    "* Describe what is a tuple\n",
    "    * An immutable list\n",
    "* Declare and apply single and 2-dimensional tuples (nested tuples)\n",
    "    * Use () and , (parentheses and/or commas) to declare tuples\n",
    "    * `tuple()`\n",
    "* How to get the number of items in a tuple?\n",
    "* Tuple indexing\n",
    "* Tuple slicing"
   ]
  },
  {
   "cell_type": "markdown",
   "metadata": {},
   "source": [
    "### 3 Dictionaries\n",
    "(Chapter 11 *Dictionaries* and Chapter 13 *Case Study: Data Structure Selection* in the Downey textbook.)\n",
    "* Describe what are keys\n",
    "* Describe what are values\n",
    "* Describe what is a mapping\n",
    "* Describe what are key-value pairs\n",
    "* Describe what is a dictionary\n",
    "    * A list with keys as indices\n",
    "    * Dictionaries are mutable\n",
    "    * Valid data types for keys and values\n",
    "* Declare and apply single and 2-dimensional dictionaries (nested dictionaries)\n",
    "    * Use { } (curly brackets) to declare dictionaries\n",
    "    * `dict()`\n",
    "* Convert tuples to dictionaries and dictionaries to tuples\n",
    "* Dictionary indexing\n",
    "* Dictionaries and loops\n",
    "* Adding key-value pairs\n",
    "* Testing existence of a key\n",
    "* How to get the number of key-value pairs in a dictionary?\n",
    "* Understand and apply dictionary methods (e.g. `items()`, etc.)"
   ]
  },
  {
   "cell_type": "markdown",
   "metadata": {},
   "source": [
    "### 4 Objects\n",
    "(Chapter 15 *Classes and Objects*, Chapter 16 *Classes and functions*, and Chapter 17 *Classes and methods* in the Downey textbook.)\n",
    "* Describe what is a class?\n",
    "    * A collection of attributes and behaviors that completely describes something\n",
    "* Describe what is an object?\n",
    "    * An instance of a class\n",
    "    * Objects are mutable\n",
    "* Describe what is object oriented programming\n",
    "* Pre-defined Python classes we have been using\n",
    "* Programmer-defined Python classes we write ourselves\n",
    "* Defining/instantiating classes\n",
    "* Setting/getting attributes\n",
    "* Defining/calling methods\n",
    "* Describe what is the `self` parameter?\n",
    "* Special methods\n",
    "    * `__init__()`\n",
    "    * `__str__()`\n",
    "    * `__eq__()`\n",
    "    * others?\n",
    "* Objects and functions\n",
    "* Lists of objects\n",
    "* Describe what is operator overloading\n",
    "    * Special methods that define operator functionality\n",
    "    * For example, `__eq__()` defines functionality for the equals operator `==`\n",
    "* Describe what is composition\n",
    "    * Attributes that are other objects"
   ]
  },
  {
   "cell_type": "markdown",
   "metadata": {},
   "source": [
    "### Other Topics\n",
    "* 8x8 light board hardware/software\n",
    "    * RGB values\n",
    "* `time` module\n",
    "* Converting decimal to binary\n",
    "* Converting binary to decimal"
   ]
  },
  {
   "cell_type": "markdown",
   "metadata": {},
   "source": [
    "## Recommended Strategy for Preparing for the Exam\n",
    "The exam questions will require you to solve problems in a variety of formats: defining key terms, evaluating expressions, writing code, determining the output of code, etc.\n",
    "\n",
    "I recommend that you use the following activities and materials to prepare for the exam:\n",
    "* Review quizzes, lab exercises, programming assignments, and problems solved in class\n",
    "    * These may well be your best resource. An excellent learning activity would be to retake the quizzes and re-solve the lab exercises, in class exercises, and programming assignments. \n",
    "* Lesson notes and example code\n",
    "* Read the textbook\n",
    "    * Read or re-read chapters 1-3, 5 (no recursion), 6-17, and Appendix A and in the Downey textbook. "
   ]
  },
  {
   "cell_type": "markdown",
   "metadata": {},
   "source": [
    "## Extra Practice Problems"
   ]
  },
  {
   "cell_type": "markdown",
   "metadata": {},
   "source": [
    "### 1\n",
    "Define a `Student` class to store information about a student. `Student` information includes an ID number (string), first name (string), last name (string), and number of credits (integer). In your definition, include `__init__()`, `__str__()`, and `__eq__()` special methods. Two `Student`s are compared for equality based on their ID Number.\n",
    "\n",
    "Write code to instantiate two `Student` objects, display the `Student`s, and compare the two `Student`s for equality."
   ]
  },
  {
   "cell_type": "markdown",
   "metadata": {},
   "source": [
    "### 2\n",
    "The following problem is motivated by PA5. Write a function called `compute_mins_seconds(ms)` that accepts a duration in milliseconds and returns a tuple of minutes and seconds. For example, `compute_min_seconds(125000)` would return the tuple `(2, 5)` corresponding to 2 minutes and 5 seconds in 125000 milliseconds."
   ]
  },
  {
   "cell_type": "markdown",
   "metadata": {},
   "source": [
    "### 3\n",
    "For the following problems, we will need to download a file: [words.txt](http://thinkpython2.com/code/words.txt). This file contains 113,809 official crossword words, one per line. Using words.txt, write a program with the following functionality:\n",
    "1. `count_words()`: accepts the file object as an argument and returns the number of words in the file.\n",
    "1. `avg_word_length()`: accepts the file object as an argument and returns the average number of characters per word.\n",
    "1. `write_word_lengths()`: accepts the file object as an argument and for each word in words.txt, writes the number of characters in the word to a file (lengths.txt), one number per line.\n",
    "\n",
    "You may choose to define/call additional functions if you wish."
   ]
  },
  {
   "cell_type": "markdown",
   "metadata": {},
   "source": [
    "### 4\n",
    "Write a function that accepts a string representing a binary number and returns an integer representing the string in decimal. \n",
    "\n",
    "Test your function with \"11001\", which is 25 in decimal (check this by hand too, it's good practice!)."
   ]
  },
  {
   "cell_type": "code",
   "execution_count": 34,
   "metadata": {
    "collapsed": false
   },
   "outputs": [
    {
     "name": "stdout",
     "output_type": "stream",
     "text": [
      "25\n"
     ]
    }
   ],
   "source": [
    "def binary_to_decimal(binary):\n",
    "    '''\n",
    "    \n",
    "    '''\n",
    "    decimal = 0\n",
    "    highest_power_two = len(binary) - 1\n",
    "    \n",
    "    for i in range(len(binary)):\n",
    "        digit = int(binary[i])\n",
    "        decimal += digit * 2 ** (highest_power_two - i)\n",
    "        \n",
    "    return decimal\n",
    "\n",
    "print(binary_to_decimal(\"11001\"))\n",
    "    "
   ]
  },
  {
   "cell_type": "markdown",
   "metadata": {},
   "source": [
    "### 5\n",
    "Write a function that accepts an integer and returns a string representing the integer in binary.\n",
    "\n",
    "Test your function with 132, which is \"10000100\" in binary (check this by hand too, it's good practice!)."
   ]
  },
  {
   "cell_type": "code",
   "execution_count": 35,
   "metadata": {
    "collapsed": false
   },
   "outputs": [
    {
     "name": "stdout",
     "output_type": "stream",
     "text": [
      "10000100\n"
     ]
    }
   ],
   "source": [
    "def decimal_to_binary(decimal):\n",
    "    '''\n",
    "    \n",
    "    '''\n",
    "    binary = \"\"\n",
    "    highest_power_two = 7 # hardcoding this to only handle decimals in [0, 2^8 - 1]\n",
    "    # could compute highest_power_two with log base 2(decimal)\n",
    "    for i in range(highest_power_two, -1, -1):\n",
    "        power_two = 2 ** i\n",
    "        if decimal // power_two > 0:\n",
    "            binary += \"1\"\n",
    "            decimal -= power_two\n",
    "        else:\n",
    "            binary += \"0\"\n",
    "    \n",
    "    return binary\n",
    "\n",
    "print(decimal_to_binary(132))"
   ]
  },
  {
   "cell_type": "markdown",
   "metadata": {},
   "source": [
    "### 6\n",
    "Write a program to roll a 6-sided die 1,000 times. Use a dictionary to store the count of each die face to determine the percentage of each outcome. Are the percentages what you would expect them to be?\n",
    "\n",
    "Repeat the above problem for rolling two 6-sided dice (i.e. the sum of both dice). Are the percentages what you would expect them to be?"
   ]
  },
  {
   "cell_type": "code",
   "execution_count": 42,
   "metadata": {
    "collapsed": false
   },
   "outputs": [
    {
     "name": "stdout",
     "output_type": "stream",
     "text": [
      "1: 16.30%\n",
      "2: 15.60%\n",
      "3: 17.00%\n",
      "4: 16.40%\n",
      "5: 18.50%\n",
      "6: 16.20%\n",
      "\n",
      "2: 3.00%\n",
      "3: 6.10%\n",
      "4: 7.90%\n",
      "5: 11.00%\n",
      "6: 14.50%\n",
      "7: 17.50%\n",
      "8: 12.20%\n",
      "9: 11.50%\n",
      "10: 8.50%\n",
      "11: 5.40%\n",
      "12: 2.40%\n"
     ]
    }
   ],
   "source": [
    "def roll_dice_1000_times():\n",
    "    '''\n",
    "    \n",
    "    '''\n",
    "    # for counting single 6 sided die throws\n",
    "    d = {}\n",
    "    # for counting the sum of two 6 sided die throws\n",
    "    d2 = {}\n",
    "    for i in range(1000):\n",
    "        roll = random.randrange(1, 7)\n",
    "        roll2 = random.randrange(1, 7)\n",
    "        if roll in d:\n",
    "            d[roll] += 1\n",
    "        else:\n",
    "            d[roll] = 1\n",
    "            \n",
    "        summ = roll + roll2\n",
    "        if summ in d2:\n",
    "            d2[summ] += 1\n",
    "        else:\n",
    "            d2[summ] = 1\n",
    "    for roll in d:\n",
    "        d[roll] /= 1000\n",
    "        d[roll] *= 100.0\n",
    "    for summ in d2:\n",
    "        d2[summ] /= 1000\n",
    "        d2[summ] *= 100.0\n",
    "    return d, d2\n",
    "    \n",
    "one_die, two_dice = roll_dice_1000_times()\n",
    "for face_value in one_die:\n",
    "    print(\"%d: %.2f%%\" %(face_value, one_die[face_value]))\n",
    "    \n",
    "print()\n",
    "for face_value in two_dice:\n",
    "    print(\"%d: %.2f%%\" %(face_value, two_dice[face_value]))"
   ]
  },
  {
   "cell_type": "markdown",
   "metadata": {},
   "source": [
    "### 7\n",
    "Given the following table of data:\n",
    "\n",
    "|ID Number|Last name|First name|\n",
    "|-|-|-|\n",
    "|28905|Smith|Jane|\n",
    "|19485|Smith|John|\n",
    "|28450|Smith|John|\n",
    "|17834|Smith|Justin|\n",
    "\n",
    "Write code to perform the following:\n",
    "1. Populate a dictionary called `students` with the student information in the table. Keys in the dictionary should be ID Numbers and values in the dictionary should be two-item tuples containing first and last names.\n",
    "1. Write a loop to display each key-value pair in `students` in the following form: `28905: Smith, Jane`\n",
    "1. Add another student, 19654 Janet Smithy, to `students`\n",
    "1. Remove ID number 28450 from `students`\n",
    "1. Convert `students` to a list of tuples and print the list"
   ]
  },
  {
   "cell_type": "markdown",
   "metadata": {},
   "source": [
    "### 8\n",
    "Define and test the following two functions which operate on 2D lists of integers:\n",
    "1. `reverse_rows(list_ints)`: reverses the items in `list_ints` by rows\n",
    "1. `reverse_cols(list_ints)`: reverse the items in `list_ints` by columns\n",
    "\n",
    "For example, if `list_ints =[[1, 2, 3], [4, 5, 6]]`, `reverse_rows(list_ints)` would modify `list_ints` to be `[[3, 2, 1], [6, 5, 4]]` and `reverse_cols(list_ints)` would modify `list_ints` to be `[[4, 5, 6], [1, 2, 3]]`"
   ]
  },
  {
   "cell_type": "markdown",
   "metadata": {},
   "source": [
    "### 9\n",
    "For this problem, we are going to define basic classes to represent objects related to `turtle` graphics. For each of the following classes, include `__init__()` and `__str__()` methods:\n",
    "1. Define a `Pen` class to represent a writing/drawing pen. Include attributes to represent pen color and ink width.\n",
    "2. Define a `Coordinate` class to represent a 2D coordinate pair. Include attributes to represent the x and y coordinates.\n",
    "3. Define a `SimpleTurtle` class to represent a simplified version of a turtle in `turtle` graphics. `SimpleTurtle` should include attributes representing the pen (a `Pen`), location (`Coordinate`), the direction of travel (a number), and whether or not the pen is touching the canvas (a Boolean). Add a method to move a `SimpleTurtle` object a certain number of steps. If the pen is down, inform the user of the line drawn.\n",
    "\n",
    "Test your `SimpleTurtle` class by instantiating an object and moving it to simulate drawing a square."
   ]
  },
  {
   "cell_type": "markdown",
   "metadata": {},
   "source": [
    "### 10\n",
    "Write a function called `build_jagged2d()` that accepts an integer value greater than 1 as an argument. The function creates a nested list of integers where the first row has one zero, the second row has two zeroes, and so on. The function returns the two dimensional list.\n",
    "\n",
    "Example: `build_jagged2d(3)` returns a two dimensional list of three rows, the first row having one zero, the second having two zeros, and the third having three zeroes. Logically, this looks like the following:\n",
    "```\n",
    "0\n",
    "0 0\n",
    "0 0 0\n",
    "```\n",
    "Programmatically, this looks like: `[[0], [0, 0], [0, 0, 0]]`"
   ]
  },
  {
   "cell_type": "markdown",
   "metadata": {},
   "source": [
    "### 11\n",
    "Write a function called `geometric_sum()` that accepts one positive integer argument, `n`. The function returns the sum of the numbers:\n",
    "\n",
    "$$1 + \\frac{1}{2} + \\frac{1}{4} + \\frac{1}{8} + ... + \\frac{1}{2^{n - 1}}$$\n",
    "\n",
    "For example, `geometric_sum(4)` returns 1.875000"
   ]
  },
  {
   "cell_type": "markdown",
   "metadata": {},
   "source": [
    "## TODO\n",
    "1. Please study for the exam! At a *minimum*:\n",
    "    * Work or re-work through:\n",
    "        * The above practice problems\n",
    "        * Tasks from the review lab: [Lab 14](http://nbviewer.jupyter.org/github/gsprint23/cpts111/blob/master/labs/Lab14.ipynb)\n",
    "        * PA6 - PA8\n",
    "    * Review key concepts and definitions\n",
    "1. Work on PA8.\n",
    "1. Start thinking about a fun side project in Python to work on over break!\n",
    "\n",
    "## Next Lesson\n",
    "1. More review.\n",
    "1. Demos of fun stuff in CS.\n",
    "1. In case I forget, congrats on finishing CptS 111, have a great winter break, and enjoy CptS 121!"
   ]
  }
 ],
 "metadata": {
  "anaconda-cloud": {},
  "kernelspec": {
   "display_name": "Python [Root]",
   "language": "python",
   "name": "Python [Root]"
  },
  "language_info": {
   "codemirror_mode": {
    "name": "ipython",
    "version": 3
   },
   "file_extension": ".py",
   "mimetype": "text/x-python",
   "name": "python",
   "nbconvert_exporter": "python",
   "pygments_lexer": "ipython3",
   "version": "3.5.2"
  }
 },
 "nbformat": 4,
 "nbformat_minor": 0
}
