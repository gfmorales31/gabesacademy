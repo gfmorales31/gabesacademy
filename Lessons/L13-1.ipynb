{
 "cells": [
  {
   "cell_type": "markdown",
   "metadata": {},
   "source": [
    "# [CptS 111 Introduction to Algorithmic Problem Solving](http://piazza.com/wsu/fall2016/cpts111/home)\n",
    "[Washington State University](https://wsu.edu)\n",
    "\n",
    "[Gina Sprint](http://eecs.wsu.edu/~gsprint/)\n",
    "# L13-1 Advanced Lists and Tuples\n",
    "\n",
    "Learner objectives for this lesson\n",
    "* Apply list methods\n",
    "* Delete items from a list\n",
    "* Learn about aliasing\n",
    "* Passing lists into functions as arguments\n",
    "* Returning lists from functions"
   ]
  },
  {
   "cell_type": "markdown",
   "metadata": {
    "collapsed": true
   },
   "source": [
    "## List Methods\n",
    "Just like with strings, lists are objects that have methods we can utilize. \n",
    "\n",
    "### `append()`\n",
    "For example, since lists are mutable, there is an `append(<new item>)` method to add an item to the end of a list:"
   ]
  },
  {
   "cell_type": "code",
   "execution_count": 1,
   "metadata": {
    "collapsed": false
   },
   "outputs": [
    {
     "name": "stdout",
     "output_type": "stream",
     "text": [
      "['Pullman', 'Spokane']\n",
      "['Pullman', 'Spokane', 'Seattle']\n",
      "['Pullman', 'Spokane', 'Seattle', ['Moscow']]\n"
     ]
    }
   ],
   "source": [
    "cities = [\"Pullman\", \"Spokane\"]\n",
    "print(cities)\n",
    "\n",
    "# adds the string as an item\n",
    "cities.append(\"Seattle\")\n",
    "print(cities)\n",
    "\n",
    "# adds the list as an item\n",
    "cities.append([\"Moscow\"])\n",
    "print(cities)"
   ]
  },
  {
   "cell_type": "markdown",
   "metadata": {},
   "source": [
    "As review, how could we achieve the same functionality as `append()` without using `append()`?"
   ]
  },
  {
   "cell_type": "code",
   "execution_count": 2,
   "metadata": {
    "collapsed": false
   },
   "outputs": [
    {
     "name": "stdout",
     "output_type": "stream",
     "text": [
      "['Pullman', 'Spokane']\n",
      "['Pullman', 'Spokane', 'Seattle']\n"
     ]
    }
   ],
   "source": [
    "cities = [\"Pullman\", \"Spokane\"]\n",
    "print(cities)\n",
    "\n",
    "# adds the strings as an item\n",
    "cities += [\"Seattle\"]\n",
    "print(cities)"
   ]
  },
  {
   "cell_type": "markdown",
   "metadata": {},
   "source": [
    "### `extend()`\n",
    "`extend()` is similar to `append()`; however, `extend()` takes a list as an argument and adds each item to the list:"
   ]
  },
  {
   "cell_type": "code",
   "execution_count": 3,
   "metadata": {
    "collapsed": false
   },
   "outputs": [
    {
     "name": "stdout",
     "output_type": "stream",
     "text": [
      "['Pullman', 'Spokane']\n",
      "['Pullman', 'Spokane', 'Seattle', \"Couer d'Alene\"]\n"
     ]
    }
   ],
   "source": [
    "cities = [\"Pullman\", \"Spokane\"]\n",
    "print(cities)\n",
    "\n",
    "# adds each string in the list as an item\n",
    "cities.extend([\"Seattle\", \"Couer d'Alene\"])\n",
    "print(cities)"
   ]
  },
  {
   "cell_type": "markdown",
   "metadata": {},
   "source": [
    "What would happen if we used `append()` instead of `extend()` in the above code?"
   ]
  },
  {
   "cell_type": "code",
   "execution_count": 4,
   "metadata": {
    "collapsed": false
   },
   "outputs": [
    {
     "name": "stdout",
     "output_type": "stream",
     "text": [
      "['Pullman', 'Spokane']\n",
      "['Pullman', 'Spokane', ['Seattle', \"Couer d'Alene\"]]\n"
     ]
    }
   ],
   "source": [
    "cities = [\"Pullman\", \"Spokane\"]\n",
    "print(cities)\n",
    "cities.append([\"Seattle\", \"Couer d'Alene\"])\n",
    "print(cities)"
   ]
  },
  {
   "cell_type": "markdown",
   "metadata": {},
   "source": [
    "`cities` becomes a nested list!"
   ]
  },
  {
   "cell_type": "markdown",
   "metadata": {},
   "source": [
    "### `sort()`\n",
    "Many applications require lists of items to be sorted. In CptS121, you will learn how to write your own sorting algorithms. For now, we will use the `sort()` list method:"
   ]
  },
  {
   "cell_type": "code",
   "execution_count": 6,
   "metadata": {
    "collapsed": false
   },
   "outputs": [
    {
     "name": "stdout",
     "output_type": "stream",
     "text": [
      "['Pullman', 'Spokane', 'Seattle', \"Couer d'Alene\"]\n",
      "[\"Couer d'Alene\", 'Pullman', 'Seattle', 'Spokane']\n"
     ]
    }
   ],
   "source": [
    "cities = [\"Pullman\", \"Spokane\", \"Seattle\", \"Couer d'Alene\"]\n",
    "print(cities)\n",
    "\n",
    "# ascending order\n",
    "cities.sort()\n",
    "print(cities)"
   ]
  },
  {
   "cell_type": "markdown",
   "metadata": {},
   "source": [
    "How would you sort a list in descending order? Try using `help(cities.sort)` to find out:"
   ]
  },
  {
   "cell_type": "code",
   "execution_count": 7,
   "metadata": {
    "collapsed": false
   },
   "outputs": [
    {
     "name": "stdout",
     "output_type": "stream",
     "text": [
      "Help on built-in function sort:\n",
      "\n",
      "sort(...) method of builtins.list instance\n",
      "    L.sort(key=None, reverse=False) -> None -- stable sort *IN PLACE*\n",
      "\n"
     ]
    }
   ],
   "source": [
    "help(cities.sort)"
   ]
  },
  {
   "cell_type": "code",
   "execution_count": 8,
   "metadata": {
    "collapsed": false
   },
   "outputs": [
    {
     "name": "stdout",
     "output_type": "stream",
     "text": [
      "[\"Couer d'Alene\", 'Pullman', 'Seattle', 'Spokane']\n",
      "['Spokane', 'Seattle', 'Pullman', \"Couer d'Alene\"]\n"
     ]
    }
   ],
   "source": [
    "print(cities)\n",
    "cities.sort(reverse=True)\n",
    "print(cities)"
   ]
  },
  {
   "cell_type": "markdown",
   "metadata": {},
   "source": [
    "## Deleting Items in a List\n",
    "Since lists are mutable, we can delete items in a list. \n",
    "\n",
    "### Single Item Deletes\n",
    "We have two list methods to delete a *single* item in a list\n",
    "1. When you know the *index* of the item to delete\n",
    "    * `pop(<index>)`\n",
    "1. When you know the *value* of the item to delete\n",
    "    * `remove(<item>)`"
   ]
  },
  {
   "cell_type": "code",
   "execution_count": 9,
   "metadata": {
    "collapsed": false
   },
   "outputs": [
    {
     "name": "stdout",
     "output_type": "stream",
     "text": [
      "Seattle\n",
      "['Pullman', 'Spokane', \"Couer d'Alene\"]\n",
      "['Pullman', \"Couer d'Alene\"]\n"
     ]
    }
   ],
   "source": [
    "cities = [\"Pullman\", \"Spokane\", \"Seattle\", \"Couer d'Alene\"]\n",
    "\n",
    "# pop returns the item removed\n",
    "city = cities.pop(2)\n",
    "print(city)\n",
    "print(cities)\n",
    "\n",
    "# remove does not return the item removed\n",
    "cities.remove(\"Spokane\")\n",
    "print(cities)"
   ]
  },
  {
   "cell_type": "markdown",
   "metadata": {},
   "source": [
    "### `del` Keyword and Multiple Item Deletes\n",
    "Alternatively, we can delete an object using the `del` reserved keyword:"
   ]
  },
  {
   "cell_type": "code",
   "execution_count": 10,
   "metadata": {
    "collapsed": false
   },
   "outputs": [
    {
     "name": "stdout",
     "output_type": "stream",
     "text": [
      "['Pullman', 'Spokane', 'Seattle', \"Couer d'Alene\"]\n",
      "['Pullman', 'Seattle', \"Couer d'Alene\"]\n"
     ]
    }
   ],
   "source": [
    "cities = [\"Pullman\", \"Spokane\", \"Seattle\", \"Couer d'Alene\"]\n",
    "print(cities)\n",
    "\n",
    "# del is not a function\n",
    "del cities[1]\n",
    "print(cities)"
   ]
  },
  {
   "cell_type": "markdown",
   "metadata": {},
   "source": [
    "We may want to delete multiple items at a time. We can do this with a slice and `del`:"
   ]
  },
  {
   "cell_type": "code",
   "execution_count": 11,
   "metadata": {
    "collapsed": false
   },
   "outputs": [
    {
     "name": "stdout",
     "output_type": "stream",
     "text": [
      "['Pullman', 'Spokane', 'Seattle', \"Couer d'Alene\"]\n",
      "[\"Couer d'Alene\"]\n"
     ]
    }
   ],
   "source": [
    "cities = [\"Pullman\", \"Spokane\", \"Seattle\", \"Couer d'Alene\"]\n",
    "print(cities)\n",
    "\n",
    "del cities[0:3]\n",
    "print(cities)"
   ]
  },
  {
   "cell_type": "markdown",
   "metadata": {},
   "source": [
    "### Relationship Between Strings and Lists\n",
    "A list of single character strings is not a string:"
   ]
  },
  {
   "cell_type": "code",
   "execution_count": 12,
   "metadata": {
    "collapsed": false
   },
   "outputs": [
    {
     "name": "stdout",
     "output_type": "stream",
     "text": [
      "['c', 'p', 't', 's', '1', '1', '1']\n"
     ]
    }
   ],
   "source": [
    "my_list = [\"c\", \"p\", \"t\", \"s\", \"1\", \"1\", \"1\"]\n",
    "print(\"%s\" %(my_list))"
   ]
  },
  {
   "cell_type": "markdown",
   "metadata": {},
   "source": [
    "### `join()` (string method)\n",
    "However, we can turn a list of strings into a string with the `join()` string method. We need to specify a \"delimiter\" string to use to concatenate the individual strings in a list into a single string:"
   ]
  },
  {
   "cell_type": "code",
   "execution_count": 18,
   "metadata": {
    "collapsed": false,
    "scrolled": true
   },
   "outputs": [
    {
     "name": "stdout",
     "output_type": "stream",
     "text": [
      "cpts111\n",
      "c:)p:)t:)s:)1:)1:)1\n"
     ]
    }
   ],
   "source": [
    "my_list = [\"c\", \"p\", \"t\", \"s\", \"1\", \"1\", \"1\"]\n",
    "delimiter = '' # empty string\n",
    "my_string = delimiter.join(my_list)\n",
    "print(\"%s\" %(my_string))\n",
    "\n",
    "delimiter = ':)'\n",
    "my_string = delimiter.join(my_list)\n",
    "print(\"%s\" %(my_string))"
   ]
  },
  {
   "cell_type": "markdown",
   "metadata": {},
   "source": [
    "### `list()` (function)\n",
    "To convert the string back into a list, we can type cast the string into a list with `list()`:"
   ]
  },
  {
   "cell_type": "code",
   "execution_count": 19,
   "metadata": {
    "collapsed": false
   },
   "outputs": [
    {
     "name": "stdout",
     "output_type": "stream",
     "text": [
      "['c', 'p', 't', 's', '1', '1', '1']\n"
     ]
    }
   ],
   "source": [
    "my_string = \"cpts111\"\n",
    "my_list = list(my_string)\n",
    "print(my_list)"
   ]
  },
  {
   "cell_type": "markdown",
   "metadata": {},
   "source": [
    "### `split()` (string method)\n",
    "`split(<string delimiter>)` breaks a string into pieces at each `<string delimiter>`. The pieces are returned as a list: "
   ]
  },
  {
   "cell_type": "code",
   "execution_count": 20,
   "metadata": {
    "collapsed": false
   },
   "outputs": [
    {
     "name": "stdout",
     "output_type": "stream",
     "text": [
      "['hello', 'how', 'are', 'you']\n"
     ]
    }
   ],
   "source": [
    "sentence = \"hello how are you\"\n",
    "pieces = sentence.split(\" \")\n",
    "print(pieces)"
   ]
  },
  {
   "cell_type": "markdown",
   "metadata": {},
   "source": [
    "## Aliasing\n",
    "When we declare a list variable, as in `list1 = [0, 1, 2, 3]`, a list *object* is created. We say the variable `list1` is a *reference* to the list object `[0, 1, 2, 3]`. In memory, this looks like the following:\n",
    "![](https://raw.githubusercontent.com/gsprint23/cpts111/master/lessons/figures/reference_example.png)\n",
    "\n",
    "If we declare another list variable, `list2 = [0, 1, 2, 3]`, `list2` refers to a *different* list object, even though both objects that `list1` and `list2` refer to contain the same items:\n",
    "![](https://raw.githubusercontent.com/gsprint23/cpts111/master/lessons/figures/references_multiple_example.png)\n",
    "\n",
    "We can test if `list1` and `list2` refer to lists that contain the same elements:"
   ]
  },
  {
   "cell_type": "code",
   "execution_count": 21,
   "metadata": {
    "collapsed": false
   },
   "outputs": [
    {
     "name": "stdout",
     "output_type": "stream",
     "text": [
      "True\n"
     ]
    }
   ],
   "source": [
    "list1 = [0, 1, 2, 3]\n",
    "list2 = [0, 1, 2, 3]\n",
    "print(list1 == list2)"
   ]
  },
  {
   "cell_type": "markdown",
   "metadata": {},
   "source": [
    "To test if `list1` and `list2` *refer* to the same list object, we can use the Python reserved keyword, `is`. `is` tests whether two variables refer to the same object: "
   ]
  },
  {
   "cell_type": "code",
   "execution_count": 22,
   "metadata": {
    "collapsed": false
   },
   "outputs": [
    {
     "name": "stdout",
     "output_type": "stream",
     "text": [
      "False\n"
     ]
    }
   ],
   "source": [
    "list1 = [0, 1, 2, 3]\n",
    "list2 = [0, 1, 2, 3]\n",
    "print(list1 is list2)"
   ]
  },
  {
   "cell_type": "markdown",
   "metadata": {},
   "source": [
    "Note: Python is intelligent! Since strings are immutable, only one object is created in the following code:"
   ]
  },
  {
   "cell_type": "code",
   "execution_count": 23,
   "metadata": {
    "collapsed": false
   },
   "outputs": [
    {
     "name": "stdout",
     "output_type": "stream",
     "text": [
      "True\n",
      "True\n"
     ]
    }
   ],
   "source": [
    "string1 = \"cpts111\"\n",
    "string2 = \"cpts111\"\n",
    "print(string1 == string2)\n",
    "print(string1 is string2)"
   ]
  },
  {
   "cell_type": "markdown",
   "metadata": {},
   "source": [
    "In the above code, both `string1` and `string2` refer to the same string object. This phenomenon is called *aliasing*. \n",
    "![](https://raw.githubusercontent.com/gsprint23/cpts111/master/lessons/figures/alias_string_example.png)\n",
    "\n",
    "Let's return to our list example and see aliasing at work. \n",
    "\n",
    "If instead of assigning `list2` to a new list object, we assign `list2` to `list1`: `list2 = list1`, `list2` refers to the same object as `list1`.\n",
    "![](https://raw.githubusercontent.com/gsprint23/cpts111/master/lessons/figures/alias_example.png)\n",
    "\n",
    "We now say the object is *aliased*, because it has more than one reference, or alias.\n",
    "\n",
    "If the aliased object is mutable, either reference can modify the object:"
   ]
  },
  {
   "cell_type": "code",
   "execution_count": 24,
   "metadata": {
    "collapsed": false
   },
   "outputs": [
    {
     "name": "stdout",
     "output_type": "stream",
     "text": [
      "[0, 1, 2, 3]\n",
      "[0, 1, 2, 3]\n",
      "[0, 1, 100, 3]\n",
      "[0, 1, 100, 3]\n",
      "\n",
      "\n",
      "[0, 1, 2, 3]\n",
      "[0, 1, 2, 3]\n",
      "[0, 1, 2, 3]\n",
      "[0, 1, 100, 3]\n"
     ]
    }
   ],
   "source": [
    "# same object aliased by list1 and list2\n",
    "list1 = [0, 1, 2, 3]\n",
    "list2 = list1\n",
    "print(list1)\n",
    "print(list2)\n",
    "list2[2] = 100\n",
    "print(list1)\n",
    "print(list2)\n",
    "print(\"\\n\")\n",
    "\n",
    "# compared to creating two separate objects list1 and list2\n",
    "list1 = [0, 1, 2, 3]\n",
    "list2 = [0, 1, 2, 3]\n",
    "print(list1)\n",
    "print(list2)\n",
    "list2[2] = 100\n",
    "print(list1)\n",
    "print(list2)"
   ]
  },
  {
   "cell_type": "markdown",
   "metadata": {},
   "source": [
    "Aliasing is important to keep in mind, especially when passing lists as arguments."
   ]
  },
  {
   "cell_type": "markdown",
   "metadata": {},
   "source": [
    "## Lists Arguments\n",
    "We can pass lists into functions as arguments:"
   ]
  },
  {
   "cell_type": "code",
   "execution_count": 25,
   "metadata": {
    "collapsed": false
   },
   "outputs": [
    {
     "name": "stdout",
     "output_type": "stream",
     "text": [
      "0.0 0.2 0.4 "
     ]
    }
   ],
   "source": [
    "def pretty_print_list(list_to_print):\n",
    "    '''\n",
    "    \n",
    "    '''\n",
    "    for value in list_to_print:\n",
    "        print(value, end=\" \")\n",
    "\n",
    "numbers = [0.0, 0.2, 0.4]\n",
    "pretty_print_list(numbers)"
   ]
  },
  {
   "cell_type": "markdown",
   "metadata": {},
   "source": [
    "When a list is passed as an argument to a function, the function parameter variable is a *reference* to the list, making the list *aliased*. This means that if we modify a list in our function, the change to the object persists and the calling code will see the change.\n",
    "\n",
    "In the example above, `numbers` and `list_to_print` are aliases to the list object `[0.0, 0.2, 0.4]`. If `pretty_print_list()` can use `list_to_print` to modify the object. \n",
    "\n",
    "Let's write a new function, `add_one()`, that adds one to each value in a list:"
   ]
  },
  {
   "cell_type": "code",
   "execution_count": 26,
   "metadata": {
    "collapsed": false
   },
   "outputs": [
    {
     "name": "stdout",
     "output_type": "stream",
     "text": [
      "[0.0, 0.2, 0.4]\n",
      "[1.0, 1.2, 1.4]\n"
     ]
    }
   ],
   "source": [
    "def add_one(list_arg):\n",
    "    '''\n",
    "    \n",
    "    '''\n",
    "    for i in range(len(list_arg)):\n",
    "        list_arg[i] += 1\n",
    "\n",
    "numbers = [0.0, 0.2, 0.4]\n",
    "print(numbers)\n",
    "add_one(numbers)\n",
    "print(numbers)"
   ]
  },
  {
   "cell_type": "markdown",
   "metadata": {},
   "source": [
    "## Returning Lists\n",
    "We can write functions that return lists. Consider a function that returns a list of numbers from arguments `start_index` to `end_index + 1`:"
   ]
  },
  {
   "cell_type": "code",
   "execution_count": 27,
   "metadata": {
    "collapsed": false
   },
   "outputs": [
    {
     "name": "stdout",
     "output_type": "stream",
     "text": [
      "[0, 1, 2, 3, 4, 5, 6, 7, 8, 9]\n"
     ]
    }
   ],
   "source": [
    "def create_sequence(start_index, end_index):\n",
    "    '''\n",
    "    \n",
    "    '''\n",
    "    sequence = []\n",
    "    \n",
    "    for i in range(start_index, end_index):\n",
    "        sequence.append(i)\n",
    "    return sequence\n",
    "\n",
    "first_ten_nums = create_sequence(0, 10)\n",
    "print(first_ten_nums)"
   ]
  },
  {
   "cell_type": "markdown",
   "metadata": {},
   "source": [
    "## Tuples\n",
    "Tuples are immutable lists. They are declared as a comma separated list, with or without parentheses:"
   ]
  },
  {
   "cell_type": "code",
   "execution_count": 28,
   "metadata": {
    "collapsed": false
   },
   "outputs": [
    {
     "name": "stdout",
     "output_type": "stream",
     "text": [
      "('x', 'y', 'z')\n",
      "<class 'tuple'>\n",
      "(1,)\n",
      "a\n",
      "<class 'str'>\n",
      "()\n",
      "<class 'tuple'>\n"
     ]
    }
   ],
   "source": [
    "my_tuple = \"x\", \"y\", \"z\"\n",
    "print(my_tuple)\n",
    "print(type(my_tuple))\n",
    "\n",
    "# need a comma after a single element initialization\n",
    "my_tuple2 = (1, )\n",
    "print(my_tuple2)\n",
    "\n",
    "# need a comma after a single element initialization\n",
    "not_a_tuple = (\"a\")\n",
    "print(not_a_tuple)\n",
    "print(type(not_a_tuple))\n",
    "\n",
    "# creating an empty tuple\n",
    "empty_tuple = tuple()\n",
    "print(empty_tuple)\n",
    "print(type(empty_tuple))"
   ]
  },
  {
   "cell_type": "markdown",
   "metadata": {},
   "source": [
    "Tuple indexing and slicing works the same as for lists:"
   ]
  },
  {
   "cell_type": "code",
   "execution_count": 29,
   "metadata": {
    "collapsed": false
   },
   "outputs": [
    {
     "name": "stdout",
     "output_type": "stream",
     "text": [
      "y\n",
      "('x', 'y')\n"
     ]
    }
   ],
   "source": [
    "my_tuple = (\"x\", \"y\", \"z\")\n",
    "print(my_tuple[1])\n",
    "print(my_tuple[0:2])"
   ]
  },
  {
   "cell_type": "markdown",
   "metadata": {},
   "source": [
    "HOWEVER, tuples are immutable, so you cannot modify them. The follow code demonstrates the immutability of tuples:"
   ]
  },
  {
   "cell_type": "code",
   "execution_count": 30,
   "metadata": {
    "collapsed": false
   },
   "outputs": [
    {
     "ename": "TypeError",
     "evalue": "'tuple' object does not support item assignment",
     "output_type": "error",
     "traceback": [
      "\u001b[1;31m---------------------------------------------------------------------------\u001b[0m",
      "\u001b[1;31mTypeError\u001b[0m                                 Traceback (most recent call last)",
      "\u001b[1;32m<ipython-input-30-dfbe487f882d>\u001b[0m in \u001b[0;36m<module>\u001b[1;34m()\u001b[0m\n\u001b[0;32m      1\u001b[0m \u001b[0mmy_tuple\u001b[0m \u001b[1;33m=\u001b[0m \u001b[1;33m(\u001b[0m\u001b[1;34m\"x\"\u001b[0m\u001b[1;33m,\u001b[0m \u001b[1;34m\"y\"\u001b[0m\u001b[1;33m,\u001b[0m \u001b[1;34m\"z\"\u001b[0m\u001b[1;33m)\u001b[0m\u001b[1;33m\u001b[0m\u001b[0m\n\u001b[0;32m      2\u001b[0m \u001b[1;31m# crashes! tuples are immutable, you cannot change them\u001b[0m\u001b[1;33m\u001b[0m\u001b[1;33m\u001b[0m\u001b[0m\n\u001b[1;32m----> 3\u001b[1;33m \u001b[0mmy_tuple\u001b[0m\u001b[1;33m[\u001b[0m\u001b[1;36m2\u001b[0m\u001b[1;33m]\u001b[0m \u001b[1;33m=\u001b[0m \u001b[1;34m\"a\"\u001b[0m\u001b[1;33m\u001b[0m\u001b[0m\n\u001b[0m",
      "\u001b[1;31mTypeError\u001b[0m: 'tuple' object does not support item assignment"
     ]
    }
   ],
   "source": [
    "my_tuple = (\"x\", \"y\", \"z\")\n",
    "# crashes! tuples are immutable, you cannot change them\n",
    "my_tuple[2] = \"a\""
   ]
  },
  {
   "cell_type": "markdown",
   "metadata": {},
   "source": [
    "## TODO\n",
    "1. Work on PA6.\n",
    "1. Read Chapters 10, 11, and 12.\n",
    "\n",
    "## Next Lesson\n",
    "We cover dictionaries, a quite powerful data structure!"
   ]
  }
 ],
 "metadata": {
  "anaconda-cloud": {},
  "kernelspec": {
   "display_name": "Python [Root]",
   "language": "python",
   "name": "Python [Root]"
  },
  "language_info": {
   "codemirror_mode": {
    "name": "ipython",
    "version": 3
   },
   "file_extension": ".py",
   "mimetype": "text/x-python",
   "name": "python",
   "nbconvert_exporter": "python",
   "pygments_lexer": "ipython3",
   "version": "3.5.2"
  }
 },
 "nbformat": 4,
 "nbformat_minor": 0
}
