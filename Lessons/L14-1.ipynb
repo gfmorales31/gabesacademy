{
 "cells": [
  {
   "cell_type": "markdown",
   "metadata": {},
   "source": [
    "# [CptS 111 Introduction to Algorithmic Problem Solving](http://piazza.com/wsu/fall2016/cpts111/home)\n",
    "[Washington State University](https://wsu.edu)\n",
    "\n",
    "[Gina Sprint](http://eecs.wsu.edu/~gsprint/)\n",
    "# L14-1 Classes and Objects\n",
    "\n",
    "Learner objectives for this lesson\n",
    "* Define classes\n",
    "* Declare objects to instantiate classes\n",
    "* Implement basic object functionality\n",
    "* Implement class methods"
   ]
  },
  {
   "cell_type": "markdown",
   "metadata": {
    "collapsed": true
   },
   "source": [
    "## Objects We Have Used\n",
    "We have already been exposed to the notion of an *object*. For example, when we open a file for reading or writing, the `open()` function returns a *file object*. "
   ]
  },
  {
   "cell_type": "code",
   "execution_count": 1,
   "metadata": {
    "collapsed": false
   },
   "outputs": [
    {
     "name": "stdout",
     "output_type": "stream",
     "text": [
      "['13.42\\n', '27.19\\n', '9.98\\n', '48.56\\n', '33.71']\n"
     ]
    }
   ],
   "source": [
    "# infile is a file object\n",
    "infile = open(\"transactions.txt\", \"r\")\n",
    "print(infile.readlines())\n",
    "infile.close()"
   ]
  },
  {
   "cell_type": "markdown",
   "metadata": {},
   "source": [
    "`infile` is a file object that has associated functions, called *methods*. We have already seen this notion of *methods* when we learned about string and list methods (think `my_string.upper()`, etc.). In the above example, `readlines()` and `close()` are methods belonging to file objects.\n",
    "\n",
    "An *object* is a powerful programming concept that couples data storage (i.e. variables) with associated data operations and functionality (i.e. methods)."
   ]
  },
  {
   "cell_type": "markdown",
   "metadata": {},
   "source": [
    "## Classes\n",
    "We know of several Python data types:\n",
    "* `int`\n",
    "* `float`\n",
    "* `string`\n",
    "* `file`\n",
    "* etc.\n",
    "\n",
    "Today, we are going to learn how to define our own types! To do so, we will define *classes*. A class is a collection of *attributes* and *behaviors* that completely describes something. More on *attributes* and *behaviors* to come.\n",
    "\n",
    "Programmatically, a class is a type definition, and an object is a variable of that type. We also say an object is an *instance* of a class.\n",
    "\n",
    "Imagine we are writing a program to manage the status of books at a library or bookstore. For this program, it would be useful to have a class called `Book` where we could store information (think variables, called *attributes* when the variables belong to objects) and operations (think functions, called *methods* when the functions belong to objects) related to a book. Using the reserved keyword `class` to define a `Book` class, we can define this type:"
   ]
  },
  {
   "cell_type": "code",
   "execution_count": 2,
   "metadata": {
    "collapsed": true
   },
   "outputs": [],
   "source": [
    "class Book:\n",
    "    '''\n",
    "    \n",
    "    '''"
   ]
  },
  {
   "cell_type": "markdown",
   "metadata": {},
   "source": [
    "We have a definition for a `Book`! This class is not very powerful (yet). Let's see how we can make an instance of this class, called an object:"
   ]
  },
  {
   "cell_type": "code",
   "execution_count": 3,
   "metadata": {
    "collapsed": false
   },
   "outputs": [],
   "source": [
    "# my_book is a Book object, i.e. it is an instance of the Book class\n",
    "my_book = Book()"
   ]
  },
  {
   "cell_type": "markdown",
   "metadata": {},
   "source": [
    "Now that we have a book class, let's add variables to the class to represent information about books, such as `title` (string), `author` (string), `isbn` (string), and `checked_out` (Boolean). We call variables associated with an object *attributes* to specify they are variables belonging to a class. We can declare and access the attributes of an object with the *member selection* (dot) operator:"
   ]
  },
  {
   "cell_type": "code",
   "execution_count": 4,
   "metadata": {
    "collapsed": true
   },
   "outputs": [],
   "source": [
    "my_book = Book()\n",
    "my_book.title = \"The Martian\"\n",
    "my_book.author = \"Andy Weir\"\n",
    "my_book.isbn = \"978-0-8041-3902-1\"\n",
    "my_book.checked_out = False # it's on the shelf"
   ]
  },
  {
   "cell_type": "markdown",
   "metadata": {},
   "source": [
    "We have actually seen and used the dot notation to access variables and functions before. Recall accessing pi in the math module (`math.pi`), calling a library function (`math.sqrt(4.0)`), and calling a method of a file object (`in_file.close()`) or a string object (`my_string.upper()`). \n",
    "\n",
    "We can display the attribute values just like other variables:"
   ]
  },
  {
   "cell_type": "code",
   "execution_count": 5,
   "metadata": {
    "collapsed": false
   },
   "outputs": [
    {
     "name": "stdout",
     "output_type": "stream",
     "text": [
      "The book \"The Martian\" is available on the shelf\n"
     ]
    }
   ],
   "source": [
    "if my_book.checked_out:\n",
    "    print(\"The book \\\"%s\\\" is checked out\" %(my_book.title))\n",
    "else: # checked in\n",
    "    print(\"The book \\\"%s\\\" is available on the shelf\" %(my_book.title))"
   ]
  },
  {
   "cell_type": "markdown",
   "metadata": {},
   "source": [
    "Objects are mutable! We can change the status of a `Book` object should someone check in or check out a book from the library:"
   ]
  },
  {
   "cell_type": "code",
   "execution_count": 8,
   "metadata": {
    "collapsed": true
   },
   "outputs": [],
   "source": [
    "my_book.checked_out = True"
   ]
  },
  {
   "cell_type": "markdown",
   "metadata": {},
   "source": [
    "Now, let's modify an attribute 2 different ways:\n",
    "1. Via a function\n",
    "1. Via a method\n"
   ]
  },
  {
   "cell_type": "markdown",
   "metadata": {},
   "source": [
    "## Objects and Functions"
   ]
  },
  {
   "cell_type": "markdown",
   "metadata": {},
   "source": [
    "Remember when we learned about aliasing? We can pass a reference to an object into a function to create an alias. For example, supposed we have a `Book` object called `hp1`. We can make an alias called `book` for `hp1` if we pass in `hp1` into a function with a parameter called `book`:"
   ]
  },
  {
   "cell_type": "code",
   "execution_count": 6,
   "metadata": {
    "collapsed": false
   },
   "outputs": [
    {
     "name": "stdout",
     "output_type": "stream",
     "text": [
      "The Sorcerer's Stone by J.K. Rowling\n",
      "The Sorcerer's Stone is checked out: True\n",
      "The Sorcerer's Stone is checked out: False\n"
     ]
    }
   ],
   "source": [
    "def display_book(book):\n",
    "    '''\n",
    "    \n",
    "    '''\n",
    "    print(\"%s by %s\" %(book.title, book.author))\n",
    "\n",
    "def display_book_status(book):\n",
    "    '''\n",
    "    \n",
    "    '''\n",
    "    print(\"%s is checked out: %s\" %(book.title, book.checked_out))\n",
    "    \n",
    "    \n",
    "def return_book(book):\n",
    "    '''\n",
    "    \n",
    "    '''\n",
    "    book.checked_out = False\n",
    "    \n",
    "hp1 = Book()\n",
    "hp1.title = \"The Sorcerer's Stone\"\n",
    "hp1.author = \"J.K. Rowling\"\n",
    "hp1.isbn = \"978-0439708180\"\n",
    "hp1.checked_out = True\n",
    "\n",
    "display_book(hp1)\n",
    "display_book_status(hp1)\n",
    "return_book(hp1)\n",
    "display_book_status(hp1)"
   ]
  },
  {
   "cell_type": "markdown",
   "metadata": {},
   "source": [
    "## Objects and Methods\n",
    "If we place a function *inside* a class definition, the function is a *method* associated with an instance of the class."
   ]
  },
  {
   "cell_type": "code",
   "execution_count": 6,
   "metadata": {
    "collapsed": false
   },
   "outputs": [],
   "source": [
    "class Book:\n",
    "    '''\n",
    "    \n",
    "    '''\n",
    "    # simply indent the method definition to associate it with the class\n",
    "    # self is a reference to the calling object\n",
    "    def display_book(self):\n",
    "        '''\n",
    "\n",
    "        '''\n",
    "        print(\"%s by %s\" %(self.title, self.author))\n",
    "    \n",
    "    def display_book_status(self):\n",
    "        '''\n",
    "\n",
    "        '''\n",
    "        print(\"%s is checked out: %s\" %(self.title, self.checked_out))\n",
    "    \n",
    "    def return_book(self):\n",
    "        '''\n",
    "\n",
    "        '''\n",
    "        self.checked_out = False"
   ]
  },
  {
   "cell_type": "markdown",
   "metadata": {},
   "source": [
    "We do have to change one aspect of our function definitions to do this. When we call a method of a class, we do so in the form: `<object>.<method>()`. The method needs a reference to the object in order to access that particular instance's attributes. In Python, the `self` reference provides access to the *current* object. `self` is the first parameter of every method of every class, and it is *implicitly* passed into the method. This means, Python passes it in for us, we do not explicitly pass the object reference in as an argument of the method.\n",
    "\n",
    "Now, if we have a `Book` object (instance of the `Book` class), we can use the member selection operator to call the `display_book_status()` and `return_book()` methods associated with `Book`s:"
   ]
  },
  {
   "cell_type": "code",
   "execution_count": 7,
   "metadata": {
    "collapsed": false
   },
   "outputs": [
    {
     "name": "stdout",
     "output_type": "stream",
     "text": [
      "The Sorcerer's Stone by J.K. Rowling\n",
      "The Sorcerer's Stone is checked out: True\n",
      "The Sorcerer's Stone is checked out: False\n"
     ]
    }
   ],
   "source": [
    "hp1 = Book()\n",
    "hp1.title = \"The Sorcerer's Stone\"\n",
    "hp1.author = \"J.K. Rowling\"\n",
    "hp1.isbn = \"978-0439708180\"\n",
    "hp1.checked_out = True\n",
    "\n",
    "hp1.display_book()\n",
    "hp1.display_book_status()\n",
    "hp1.return_book()\n",
    "hp1.display_book_status()"
   ]
  },
  {
   "cell_type": "markdown",
   "metadata": {},
   "source": [
    "## Special Methods"
   ]
  },
  {
   "cell_type": "markdown",
   "metadata": {},
   "source": [
    "### The `__str__()` Method\n",
    "The `__str__()` special method is called implicitly when a string representation of the object is required, such as `print(hp1)`. We have already written a method with similar functionality, `display_book()`. We just need to change the method identifier to `__str__()` and return the string instead of print the string, and we can achieve the `print(hp1)` functionality!"
   ]
  },
  {
   "cell_type": "code",
   "execution_count": 5,
   "metadata": {
    "collapsed": false
   },
   "outputs": [
    {
     "name": "stdout",
     "output_type": "stream",
     "text": [
      "The Sorcerer's Stone by J.K. Rowling\n"
     ]
    }
   ],
   "source": [
    "class Book:\n",
    "    '''\n",
    "    \n",
    "    '''       \n",
    "    def __str__(self):\n",
    "        '''\n",
    "        \n",
    "        '''\n",
    "        return \"%s by %s\" %(self.title, self.author)\n",
    "        \n",
    "hp1 = Book()\n",
    "hp1.title = \"The Sorcerer's Stone\"\n",
    "hp1.author = \"J.K. Rowling\"\n",
    "hp1.isbn = \"978-0439708180\"\n",
    "hp1.checked_out = True\n",
    "print(hp1)"
   ]
  },
  {
   "cell_type": "markdown",
   "metadata": {},
   "source": [
    "Note: We can also explicitly call special methods: `hp1.__str__()`"
   ]
  },
  {
   "cell_type": "markdown",
   "metadata": {},
   "source": [
    "### The `__init__()` Method\n",
    "There is a special method identifier, `__init__()` (short for initialize) that is implicitly called by Python everytime you instantiate a new object. The double underscores denote that this method *special* in Python. We can write our own version of the `__init__()` method to specify attribute values at time of instantiation. Here is an example of the `__init__()` method for our `Book` class."
   ]
  },
  {
   "cell_type": "code",
   "execution_count": 11,
   "metadata": {
    "collapsed": true
   },
   "outputs": [],
   "source": [
    "class Book:\n",
    "    '''\n",
    "    \n",
    "    '''\n",
    "    def __init__(self, book_title, book_author, book_isbn, book_checked_out):\n",
    "        self.title = book_title\n",
    "        self.author = book_author\n",
    "        self.isbn = book_isbn\n",
    "        self.checked_out = book_checked_out\n",
    "        "
   ]
  },
  {
   "cell_type": "markdown",
   "metadata": {},
   "source": [
    "And now we will instantiate a Harry Potter `Book` object:"
   ]
  },
  {
   "cell_type": "code",
   "execution_count": 12,
   "metadata": {
    "collapsed": false
   },
   "outputs": [],
   "source": [
    "hp1 = Book(\"The Sorcerer's Stone\", \"J.K. Rowling\", \"978-0439708180\", False)"
   ]
  },
  {
   "cell_type": "markdown",
   "metadata": {},
   "source": [
    "On this instantiation, the `__init__()` method we wrote is implicitly called and the attributes `title`, `author`, `isbn`, and `checked_out` are declared and initialized to the values we passed in as arguments."
   ]
  },
  {
   "cell_type": "markdown",
   "metadata": {},
   "source": [
    "## Lists of Objects\n",
    "Let's put together some of the topics we have learned so far to declare a bookshelf of `Books`. This will be a list of `Book` objects. We can declare this list just like any other list, and populate it with `Book` objects:`"
   ]
  },
  {
   "cell_type": "code",
   "execution_count": 4,
   "metadata": {
    "collapsed": false
   },
   "outputs": [
    {
     "name": "stdout",
     "output_type": "stream",
     "text": [
      "The Sorcerer's Stone by J.K. Rowling\n",
      "The Chamber of Secrets by J.K. Rowling\n",
      "The Prisoner of Azkaban by J.K. Rowling\n",
      "The Goblet of Fire by J.K. Rowling\n",
      "The Order of the Phoenix by J.K. Rowling\n",
      "The Half Blood Prince by J.K. Rowling\n",
      "The Deathly Hallows by J.K. Rowling\n"
     ]
    }
   ],
   "source": [
    "book_shelf = []\n",
    "\n",
    "hp1 = Book(\"The Sorcerer's Stone\", \"J.K. Rowling\", \"978-0439708180\", True)\n",
    "book_shelf.append(hp1)\n",
    "\n",
    "hp2 = Book(\"The Chamber of Secrets\", \"J.K. Rowling\", \"978-0439708180\", False)\n",
    "book_shelf.append(hp2)\n",
    "\n",
    "hp3 = Book(\"The Prisoner of Azkaban\", \"J.K. Rowling\", \"978-0439708180\", True)\n",
    "book_shelf.append(hp3)\n",
    "\n",
    "hp4 = Book(\"The Goblet of Fire\", \"J.K. Rowling\", \"978-0439708180\", True)\n",
    "book_shelf.append(hp4)\n",
    "\n",
    "hp5 = Book(\"The Order of the Phoenix\", \"J.K. Rowling\", \"978-0439708180\", False)\n",
    "book_shelf.append(hp5)\n",
    "\n",
    "hp6 = Book(\"The Half Blood Prince\", \"J.K. Rowling\", \"978-0439708180\", False)\n",
    "book_shelf.append(hp6)\n",
    "\n",
    "hp7 = Book(\"The Deathly Hallows\", \"J.K. Rowling\", \"978-0439708180\", True)\n",
    "book_shelf.append(hp7)\n",
    "\n",
    "for book in book_shelf:\n",
    "    print(book)"
   ]
  },
  {
   "cell_type": "markdown",
   "metadata": {},
   "source": [
    "## TODO\n",
    "1. Read chapters 15, 16, and 17.\n",
    "1. PA7 is due tonight.\n",
    "1. Take a look at PA8.\n",
    "\n",
    "## Next Lesson\n",
    "1. More on classes."
   ]
  }
 ],
 "metadata": {
  "anaconda-cloud": {},
  "kernelspec": {
   "display_name": "Python [Root]",
   "language": "python",
   "name": "Python [Root]"
  },
  "language_info": {
   "codemirror_mode": {
    "name": "ipython",
    "version": 3
   },
   "file_extension": ".py",
   "mimetype": "text/x-python",
   "name": "python",
   "nbconvert_exporter": "python",
   "pygments_lexer": "ipython3",
   "version": "3.5.2"
  }
 },
 "nbformat": 4,
 "nbformat_minor": 0
}
