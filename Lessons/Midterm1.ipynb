{
 "cells": [
  {
   "cell_type": "markdown",
   "metadata": {},
   "source": [
    "# [CptS 111 Introduction to Algorithmic Problem Solving](http://piazza.com/wsu/fall2016/cpts111/home)\n",
    "[Washington State University](https://wsu.edu)\n",
    "\n",
    "[Gina Sprint](http://eecs.wsu.edu/~gsprint/)\n",
    "#  Midterm #1 Solutions"
   ]
  },
  {
   "cell_type": "code",
   "execution_count": 21,
   "metadata": {
    "collapsed": false
   },
   "outputs": [
    {
     "ename": "SyntaxError",
     "evalue": "invalid syntax (<ipython-input-21-183a29924e12>, line 1)",
     "output_type": "error",
     "traceback": [
      "\u001b[1;36m  File \u001b[1;32m\"<ipython-input-21-183a29924e12>\"\u001b[1;36m, line \u001b[1;32m1\u001b[0m\n\u001b[1;33m    2nd_place = 5\u001b[0m\n\u001b[1;37m            ^\u001b[0m\n\u001b[1;31mSyntaxError\u001b[0m\u001b[1;31m:\u001b[0m invalid syntax\n"
     ]
    }
   ],
   "source": [
    "2nd_place = 5"
   ]
  },
  {
   "cell_type": "code",
   "execution_count": 22,
   "metadata": {
    "collapsed": true
   },
   "outputs": [],
   "source": [
    "second_place = 5"
   ]
  },
  {
   "cell_type": "code",
   "execution_count": 23,
   "metadata": {
    "collapsed": false
   },
   "outputs": [
    {
     "ename": "SyntaxError",
     "evalue": "invalid syntax (<ipython-input-23-8af8a43da943>, line 1)",
     "output_type": "error",
     "traceback": [
      "\u001b[1;36m  File \u001b[1;32m\"<ipython-input-23-8af8a43da943>\"\u001b[1;36m, line \u001b[1;32m1\u001b[0m\n\u001b[1;33m    second_place! = 5\u001b[0m\n\u001b[1;37m                ^\u001b[0m\n\u001b[1;31mSyntaxError\u001b[0m\u001b[1;31m:\u001b[0m invalid syntax\n"
     ]
    }
   ],
   "source": [
    "second_place! = 5"
   ]
  },
  {
   "cell_type": "code",
   "execution_count": 24,
   "metadata": {
    "collapsed": true
   },
   "outputs": [],
   "source": [
    "numStudents = 5"
   ]
  },
  {
   "cell_type": "code",
   "execution_count": 25,
   "metadata": {
    "collapsed": true
   },
   "outputs": [],
   "source": [
    "num_students1 = 5"
   ]
  },
  {
   "cell_type": "code",
   "execution_count": 26,
   "metadata": {
    "collapsed": true
   },
   "outputs": [],
   "source": [
    "_num_students = 5"
   ]
  },
  {
   "cell_type": "code",
   "execution_count": 27,
   "metadata": {
    "collapsed": true
   },
   "outputs": [],
   "source": [
    "__numstudents2 = 5"
   ]
  },
  {
   "cell_type": "code",
   "execution_count": 28,
   "metadata": {
    "collapsed": false
   },
   "outputs": [
    {
     "ename": "SyntaxError",
     "evalue": "invalid syntax (<ipython-input-28-766cdccc8606>, line 1)",
     "output_type": "error",
     "traceback": [
      "\u001b[1;36m  File \u001b[1;32m\"<ipython-input-28-766cdccc8606>\"\u001b[1;36m, line \u001b[1;32m1\u001b[0m\n\u001b[1;33m    num students = 5\u001b[0m\n\u001b[1;37m               ^\u001b[0m\n\u001b[1;31mSyntaxError\u001b[0m\u001b[1;31m:\u001b[0m invalid syntax\n"
     ]
    }
   ],
   "source": [
    "num students = 5"
   ]
  },
  {
   "cell_type": "code",
   "execution_count": 29,
   "metadata": {
    "collapsed": true
   },
   "outputs": [],
   "source": [
    "Input = 5"
   ]
  },
  {
   "cell_type": "code",
   "execution_count": 30,
   "metadata": {
    "collapsed": false
   },
   "outputs": [
    {
     "ename": "SyntaxError",
     "evalue": "invalid syntax (<ipython-input-30-dd51dc6e8403>, line 1)",
     "output_type": "error",
     "traceback": [
      "\u001b[1;36m  File \u001b[1;32m\"<ipython-input-30-dd51dc6e8403>\"\u001b[1;36m, line \u001b[1;32m1\u001b[0m\n\u001b[1;33m    def = 5\u001b[0m\n\u001b[1;37m        ^\u001b[0m\n\u001b[1;31mSyntaxError\u001b[0m\u001b[1;31m:\u001b[0m invalid syntax\n"
     ]
    }
   ],
   "source": [
    "def = 5"
   ]
  },
  {
   "cell_type": "code",
   "execution_count": 31,
   "metadata": {
    "collapsed": false
   },
   "outputs": [
    {
     "name": "stdout",
     "output_type": "stream",
     "text": [
      "2\n",
      "1\n"
     ]
    }
   ],
   "source": [
    "print(11 // 5)\n",
    "print(22 % 7)"
   ]
  },
  {
   "cell_type": "code",
   "execution_count": 33,
   "metadata": {
    "collapsed": false
   },
   "outputs": [
    {
     "name": "stdout",
     "output_type": "stream",
     "text": [
      "3.1416\n",
      "3.1416\n"
     ]
    }
   ],
   "source": [
    "import math\n",
    "print(\"%.4f\" %math.pi)\n",
    "print(round(math.pi, 4))"
   ]
  },
  {
   "cell_type": "markdown",
   "metadata": {},
   "source": [
    "Predicate function: Function that returns True or False. Covered in L5-2 and L6-1."
   ]
  },
  {
   "cell_type": "code",
   "execution_count": 20,
   "metadata": {
    "collapsed": false
   },
   "outputs": [
    {
     "name": "stdout",
     "output_type": "stream",
     "text": [
      "True\n"
     ]
    }
   ],
   "source": [
    "print(7 / 15 == 9 and 7 * 5 % 2 > 3 or 9 / 19 <= 2)"
   ]
  },
  {
   "cell_type": "markdown",
   "metadata": {},
   "source": [
    "Original: (not b and y >= 0) and (5 < z or x == y)\n",
    "\n",
    "Complemented: not((not b and y >= 0) and (5 < z or x == y))\n",
    "\n",
    "Simplified by DeMorgan's Laws: (b or y < 0) or (5 >= z and x != y)\n",
    "\n",
    "Proof of equivalence with a truth table (columns (not b and y >= 0) and (5 < z or x == y) and not((b or y < 0) or (5 >= z and x != y)) match):\n",
    "\n",
    "|b|y >= 0|5 < z|x == y|not b and y >= 0|5 < z or x == y|(not b and y >= 0) and (5 < z or x == y)|b or y < 0|5 >= z and x != y|(b or y < 0) or (5 >= z and x != y)|not((b or y < 0) or (5 >= z and x != y))|\n",
    "|-|-|-|-|-|-|-|-|-|-|-|\n",
    "|0|0|0|0|0|0|0|1|1|1|0|\n",
    "|0|0|0|1|0|1|0|1|0|1|0|\n",
    "|0|0|1|0|0|1|0|1|0|1|0|\n",
    "|0|0|1|1|0|1|0|1|0|1|0|\n",
    "|0|1|0|0|1|0|0|0|1|1|0|\n",
    "|0|1|0|1|1|1|1|0|0|0|1|\n",
    "|0|1|1|0|1|1|1|0|0|0|1|\n",
    "|0|1|1|1|1|1|1|0|0|0|1|\n",
    "|1|0|0|0|0|0|0|1|1|1|0|\n",
    "|1|0|0|1|0|1|0|1|0|1|0|\n",
    "|1|0|1|0|0|1|0|1|0|1|0|\n",
    "|1|0|1|1|0|1|0|1|0|1|0|\n",
    "|1|1|0|0|0|0|0|1|1|1|0|\n",
    "|1|1|0|1|0|1|0|1|0|1|0|\n",
    "|1|1|1|0|0|1|0|1|0|1|0|\n",
    "|1|1|1|1|0|1|0|1|0|1|0|"
   ]
  },
  {
   "cell_type": "code",
   "execution_count": 3,
   "metadata": {
    "collapsed": false
   },
   "outputs": [
    {
     "name": "stdout",
     "output_type": "stream",
     "text": [
      "3 <class 'int'>\n"
     ]
    }
   ],
   "source": [
    "def func1(x):\n",
    "   x = x + 3 \n",
    "   return 3\n",
    "y = func1(9)\n",
    "print(y, type(y))"
   ]
  },
  {
   "cell_type": "code",
   "execution_count": 4,
   "metadata": {
    "collapsed": false
   },
   "outputs": [
    {
     "name": "stdout",
     "output_type": "stream",
     "text": [
      "3 <class 'int'>\n"
     ]
    }
   ],
   "source": [
    "def f(x):\n",
    "   return x // 4\n",
    "y = f(13)\n",
    "print(y, type(y))"
   ]
  },
  {
   "cell_type": "code",
   "execution_count": 6,
   "metadata": {
    "collapsed": false
   },
   "outputs": [
    {
     "name": "stdout",
     "output_type": "stream",
     "text": [
      "Enter a number: 9\n"
     ]
    }
   ],
   "source": [
    "number = input(\"Enter a number: \")\n",
    "number = int(number)# line #2\n",
    "result = 5 + number"
   ]
  },
  {
   "cell_type": "code",
   "execution_count": 1,
   "metadata": {
    "collapsed": false
   },
   "outputs": [
    {
     "name": "stdout",
     "output_type": "stream",
     "text": [
      "3.14\n",
      "2\n",
      "2\n",
      "2\n",
      "2\n",
      "2\n",
      "2\n",
      "2\n"
     ]
    }
   ],
   "source": [
    "def get_max(num1, num2, num3):\n",
    "    if num1 >= num2 and num1 >= num3:\n",
    "        return num1\n",
    "    # at this point, we know num1 is not the max\n",
    "    if num2 >=  num3:\n",
    "        return num2\n",
    "    return num3\n",
    "    \n",
    "    '''\n",
    "    if num1 > num2:\n",
    "        if num1 > num3:\n",
    "            return num1\n",
    "        else: # num2 < num1 <= num3\n",
    "            return num3\n",
    "    elif num2 > num3: # num1 <= num2\n",
    "        return num2\n",
    "    else:\n",
    "        return num3\n",
    "    '''\n",
    "\n",
    "\n",
    "print(get_max(3.14, 2.5, -1.1))\n",
    "print(get_max(0, 2, 2))\n",
    "print(get_max(2, 0, 0))\n",
    "print(get_max(2, 2, 0))\n",
    "print(get_max(2, 2, 2))\n",
    "print(get_max(0, 1, 2))\n",
    "print(get_max(0, 2, 1))\n",
    "print(get_max(2, 1, 0))"
   ]
  },
  {
   "cell_type": "code",
   "execution_count": 2,
   "metadata": {
    "collapsed": false
   },
   "outputs": [
    {
     "name": "stdout",
     "output_type": "stream",
     "text": [
      "Strawberry\n",
      "pie\n",
      "\n",
      "Coffee\n",
      "with cream\n"
     ]
    }
   ],
   "source": [
    "def code_block(x, y):\n",
    "    if x <= 0:\n",
    "        if y > 0:\n",
    "            print(\"Strawberry\")\n",
    "            if x < 5:\n",
    "                print(\"pie\")\n",
    "            elif y < 2:\n",
    "                print(\"Burger\")\n",
    "            else:\n",
    "                print(\"with fries\")\n",
    "        else:\n",
    "            print(\"Coffee\")\n",
    "            if x == 0:\n",
    "                print(\"with cream\")\n",
    "            elif y > 0:\n",
    "                print(\"with sugar\")\n",
    "# a.\n",
    "# not possible because y must be <= 0 to enter the coffee else block. y must > 0 to print \"with sugar\"\n",
    "# b.\n",
    "# not possible because \"pie\" and \"fries\" belong to the same if-elif-else block, of which the bodies are mutually exclusive\n",
    "# c.\n",
    "code_block(-1, 2)\n",
    "print()\n",
    "# d. \n",
    "code_block(0, -1)"
   ]
  },
  {
   "cell_type": "code",
   "execution_count": 16,
   "metadata": {
    "collapsed": false
   },
   "outputs": [
    {
     "name": "stdout",
     "output_type": "stream",
     "text": [
      "Please enter an integer speed: 66\n",
      "Too fast\n"
     ]
    }
   ],
   "source": [
    "speed = int(input(\"Please enter an integer speed: \"))\n",
    "if speed < 45:\n",
    "    print(\"Too slow\")\n",
    "elif speed > 65:\n",
    "    print(\"Too fast\")\n",
    "else:\n",
    "    print(\"Just right\")"
   ]
  },
  {
   "cell_type": "code",
   "execution_count": 49,
   "metadata": {
    "collapsed": false
   },
   "outputs": [
    {
     "name": "stdout",
     "output_type": "stream",
     "text": [
      "25\n",
      "25\n",
      "25\n",
      "25\n"
     ]
    }
   ],
   "source": [
    "x = 5\n",
    "print(x * x)\n",
    "print(x ** 2)\n",
    "print(pow(x, 2))\n",
    "x *= x\n",
    "print(x)"
   ]
  }
 ],
 "metadata": {
  "kernelspec": {
   "display_name": "Python [Root]",
   "language": "python",
   "name": "Python [Root]"
  },
  "language_info": {
   "codemirror_mode": {
    "name": "ipython",
    "version": 3
   },
   "file_extension": ".py",
   "mimetype": "text/x-python",
   "name": "python",
   "nbconvert_exporter": "python",
   "pygments_lexer": "ipython3",
   "version": "3.5.2"
  }
 },
 "nbformat": 4,
 "nbformat_minor": 0
}
